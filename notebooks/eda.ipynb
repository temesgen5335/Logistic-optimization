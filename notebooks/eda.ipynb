{
 "cells": [
  {
   "cell_type": "code",
   "execution_count": 13,
   "metadata": {},
   "outputs": [],
   "source": [
    "import pandas as pd\n",
    "import numpy as np\n",
    "from geopy.distance import geodesic\n",
    "import haversine as hs\n",
    "from datetime import datetime\n",
    "import folium\n",
    "from sklearn.cluster import KMeans\n",
    "import matplotlib.pyplot as plt\n",
    "import seaborn as sns"
   ]
  },
  {
   "cell_type": "markdown",
   "metadata": {},
   "source": [
    "## Load"
   ]
  },
  {
   "cell_type": "code",
   "execution_count": 1,
   "metadata": {},
   "outputs": [
    {
     "data": {
      "text/plain": [
       "'/home/tema/10X/Week8/Logistic optimization/data'"
      ]
     },
     "execution_count": 1,
     "metadata": {},
     "output_type": "execute_result"
    }
   ],
   "source": [
    "import os\n",
    "import pandas as pd\n",
    "import requests\n",
    "from datetime import datetime\n",
    "\n",
    "os.chdir(\"/home/tema/10X/Week8/Logistic optimization/data\")\n",
    "os.getcwd()"
   ]
  },
  {
   "cell_type": "code",
   "execution_count": 2,
   "metadata": {},
   "outputs": [],
   "source": [
    "drivers_location = pd.read_csv('drivers_location.csv')\n",
    "completed_orders = pd.read_csv('completed_orders.csv')"
   ]
  },
  {
   "cell_type": "code",
   "execution_count": 3,
   "metadata": {},
   "outputs": [
    {
     "data": {
      "text/html": [
       "<div>\n",
       "<style scoped>\n",
       "    .dataframe tbody tr th:only-of-type {\n",
       "        vertical-align: middle;\n",
       "    }\n",
       "\n",
       "    .dataframe tbody tr th {\n",
       "        vertical-align: top;\n",
       "    }\n",
       "\n",
       "    .dataframe thead th {\n",
       "        text-align: right;\n",
       "    }\n",
       "</style>\n",
       "<table border=\"1\" class=\"dataframe\">\n",
       "  <thead>\n",
       "    <tr style=\"text-align: right;\">\n",
       "      <th></th>\n",
       "      <th>id</th>\n",
       "      <th>order_id</th>\n",
       "      <th>driver_id</th>\n",
       "      <th>driver_action</th>\n",
       "      <th>lat</th>\n",
       "      <th>lng</th>\n",
       "    </tr>\n",
       "  </thead>\n",
       "  <tbody>\n",
       "    <tr>\n",
       "      <th>0</th>\n",
       "      <td>1</td>\n",
       "      <td>392001</td>\n",
       "      <td>243828</td>\n",
       "      <td>accepted</td>\n",
       "      <td>6.602207</td>\n",
       "      <td>3.270465</td>\n",
       "    </tr>\n",
       "    <tr>\n",
       "      <th>1</th>\n",
       "      <td>2</td>\n",
       "      <td>392001</td>\n",
       "      <td>243588</td>\n",
       "      <td>rejected</td>\n",
       "      <td>6.592097</td>\n",
       "      <td>3.287445</td>\n",
       "    </tr>\n",
       "    <tr>\n",
       "      <th>2</th>\n",
       "      <td>3</td>\n",
       "      <td>392001</td>\n",
       "      <td>243830</td>\n",
       "      <td>rejected</td>\n",
       "      <td>6.596133</td>\n",
       "      <td>3.281784</td>\n",
       "    </tr>\n",
       "    <tr>\n",
       "      <th>3</th>\n",
       "      <td>4</td>\n",
       "      <td>392001</td>\n",
       "      <td>243539</td>\n",
       "      <td>rejected</td>\n",
       "      <td>6.596142</td>\n",
       "      <td>3.280526</td>\n",
       "    </tr>\n",
       "    <tr>\n",
       "      <th>4</th>\n",
       "      <td>5</td>\n",
       "      <td>392001</td>\n",
       "      <td>171653</td>\n",
       "      <td>rejected</td>\n",
       "      <td>6.609232</td>\n",
       "      <td>3.288800</td>\n",
       "    </tr>\n",
       "  </tbody>\n",
       "</table>\n",
       "</div>"
      ],
      "text/plain": [
       "   id  order_id  driver_id driver_action       lat       lng\n",
       "0   1    392001     243828      accepted  6.602207  3.270465\n",
       "1   2    392001     243588      rejected  6.592097  3.287445\n",
       "2   3    392001     243830      rejected  6.596133  3.281784\n",
       "3   4    392001     243539      rejected  6.596142  3.280526\n",
       "4   5    392001     171653      rejected  6.609232  3.288800"
      ]
     },
     "execution_count": 3,
     "metadata": {},
     "output_type": "execute_result"
    }
   ],
   "source": [
    "drivers_location.head()"
   ]
  },
  {
   "cell_type": "code",
   "execution_count": 8,
   "metadata": {},
   "outputs": [
    {
     "data": {
      "text/plain": [
       "Trip ID                    int64\n",
       "Trip Origin               object\n",
       "Trip Destination          object\n",
       "Trip Start Time           object\n",
       "Trip End Time             object\n",
       "Trip Duration            float64\n",
       "Origin Latitude          float64\n",
       "Origin Longitude         float64\n",
       "Destination Latitude     float64\n",
       "Destination Longitude    float64\n",
       "dtype: object"
      ]
     },
     "execution_count": 8,
     "metadata": {},
     "output_type": "execute_result"
    }
   ],
   "source": [
    "completed_orders.dtypes"
   ]
  },
  {
   "cell_type": "code",
   "execution_count": 10,
   "metadata": {},
   "outputs": [
    {
     "data": {
      "text/html": [
       "<div>\n",
       "<style scoped>\n",
       "    .dataframe tbody tr th:only-of-type {\n",
       "        vertical-align: middle;\n",
       "    }\n",
       "\n",
       "    .dataframe tbody tr th {\n",
       "        vertical-align: top;\n",
       "    }\n",
       "\n",
       "    .dataframe thead th {\n",
       "        text-align: right;\n",
       "    }\n",
       "</style>\n",
       "<table border=\"1\" class=\"dataframe\">\n",
       "  <thead>\n",
       "    <tr style=\"text-align: right;\">\n",
       "      <th></th>\n",
       "      <th>Trip ID</th>\n",
       "      <th>Trip Origin</th>\n",
       "      <th>Trip Destination</th>\n",
       "      <th>Trip Start Time</th>\n",
       "      <th>Trip End Time</th>\n",
       "      <th>Trip Duration</th>\n",
       "      <th>Origin Latitude</th>\n",
       "      <th>Origin Longitude</th>\n",
       "      <th>Destination Latitude</th>\n",
       "      <th>Destination Longitude</th>\n",
       "    </tr>\n",
       "  </thead>\n",
       "  <tbody>\n",
       "    <tr>\n",
       "      <th>0</th>\n",
       "      <td>391996</td>\n",
       "      <td>6.508813001668548,3.37740316890347</td>\n",
       "      <td>6.650969799999999,3.3450307</td>\n",
       "      <td>2021-07-01 07:28:04</td>\n",
       "      <td>2021-07-01 07:29:37</td>\n",
       "      <td>1.550000</td>\n",
       "      <td>6.508813</td>\n",
       "      <td>3.377403</td>\n",
       "      <td>6.650970</td>\n",
       "      <td>3.345031</td>\n",
       "    </tr>\n",
       "    <tr>\n",
       "      <th>1</th>\n",
       "      <td>391997</td>\n",
       "      <td>6.4316714,3.4555375</td>\n",
       "      <td>6.4280814653326,3.4721885847586</td>\n",
       "      <td>2021-07-01 06:38:04</td>\n",
       "      <td>2021-07-01 07:07:28</td>\n",
       "      <td>29.400000</td>\n",
       "      <td>6.431671</td>\n",
       "      <td>3.455538</td>\n",
       "      <td>6.428081</td>\n",
       "      <td>3.472189</td>\n",
       "    </tr>\n",
       "    <tr>\n",
       "      <th>2</th>\n",
       "      <td>391998</td>\n",
       "      <td>6.631679399999999,3.3388976</td>\n",
       "      <td>6.508324099999999,3.3590397</td>\n",
       "      <td>2021-07-01 06:21:02</td>\n",
       "      <td>2021-07-01 07:02:23</td>\n",
       "      <td>41.350000</td>\n",
       "      <td>6.631679</td>\n",
       "      <td>3.338898</td>\n",
       "      <td>6.508324</td>\n",
       "      <td>3.359040</td>\n",
       "    </tr>\n",
       "    <tr>\n",
       "      <th>3</th>\n",
       "      <td>391999</td>\n",
       "      <td>6.572757200000001,3.3677082</td>\n",
       "      <td>6.584881099999999,3.3614073</td>\n",
       "      <td>2021-07-01 07:16:07</td>\n",
       "      <td>2021-07-01 07:29:42</td>\n",
       "      <td>13.583333</td>\n",
       "      <td>6.572757</td>\n",
       "      <td>3.367708</td>\n",
       "      <td>6.584881</td>\n",
       "      <td>3.361407</td>\n",
       "    </tr>\n",
       "    <tr>\n",
       "      <th>4</th>\n",
       "      <td>392001</td>\n",
       "      <td>6.6010417,3.2766339</td>\n",
       "      <td>6.4501069,3.3916154</td>\n",
       "      <td>2021-07-01 09:30:59</td>\n",
       "      <td>2021-07-01 09:34:36</td>\n",
       "      <td>3.616667</td>\n",
       "      <td>6.601042</td>\n",
       "      <td>3.276634</td>\n",
       "      <td>6.450107</td>\n",
       "      <td>3.391615</td>\n",
       "    </tr>\n",
       "  </tbody>\n",
       "</table>\n",
       "</div>"
      ],
      "text/plain": [
       "   Trip ID                         Trip Origin  \\\n",
       "0   391996  6.508813001668548,3.37740316890347   \n",
       "1   391997                 6.4316714,3.4555375   \n",
       "2   391998         6.631679399999999,3.3388976   \n",
       "3   391999         6.572757200000001,3.3677082   \n",
       "4   392001                 6.6010417,3.2766339   \n",
       "\n",
       "                  Trip Destination      Trip Start Time        Trip End Time  \\\n",
       "0      6.650969799999999,3.3450307  2021-07-01 07:28:04  2021-07-01 07:29:37   \n",
       "1  6.4280814653326,3.4721885847586  2021-07-01 06:38:04  2021-07-01 07:07:28   \n",
       "2      6.508324099999999,3.3590397  2021-07-01 06:21:02  2021-07-01 07:02:23   \n",
       "3      6.584881099999999,3.3614073  2021-07-01 07:16:07  2021-07-01 07:29:42   \n",
       "4              6.4501069,3.3916154  2021-07-01 09:30:59  2021-07-01 09:34:36   \n",
       "\n",
       "   Trip Duration  Origin Latitude  Origin Longitude  Destination Latitude  \\\n",
       "0       1.550000         6.508813          3.377403              6.650970   \n",
       "1      29.400000         6.431671          3.455538              6.428081   \n",
       "2      41.350000         6.631679          3.338898              6.508324   \n",
       "3      13.583333         6.572757          3.367708              6.584881   \n",
       "4       3.616667         6.601042          3.276634              6.450107   \n",
       "\n",
       "   Destination Longitude  \n",
       "0               3.345031  \n",
       "1               3.472189  \n",
       "2               3.359040  \n",
       "3               3.361407  \n",
       "4               3.391615  "
      ]
     },
     "execution_count": 10,
     "metadata": {},
     "output_type": "execute_result"
    }
   ],
   "source": [
    "completed_orders.head()"
   ]
  },
  {
   "cell_type": "code",
   "execution_count": 4,
   "metadata": {},
   "outputs": [
    {
     "data": {
      "text/html": [
       "<div>\n",
       "<style scoped>\n",
       "    .dataframe tbody tr th:only-of-type {\n",
       "        vertical-align: middle;\n",
       "    }\n",
       "\n",
       "    .dataframe tbody tr th {\n",
       "        vertical-align: top;\n",
       "    }\n",
       "\n",
       "    .dataframe thead th {\n",
       "        text-align: right;\n",
       "    }\n",
       "</style>\n",
       "<table border=\"1\" class=\"dataframe\">\n",
       "  <thead>\n",
       "    <tr style=\"text-align: right;\">\n",
       "      <th></th>\n",
       "      <th>id</th>\n",
       "      <th>order_id</th>\n",
       "      <th>driver_id</th>\n",
       "      <th>driver_action</th>\n",
       "      <th>lat</th>\n",
       "      <th>lng</th>\n",
       "      <th>Trip ID</th>\n",
       "      <th>Trip Start Time</th>\n",
       "      <th>Trip End Time</th>\n",
       "      <th>Trip Duration</th>\n",
       "      <th>Origin Latitude</th>\n",
       "      <th>Origin Longitude</th>\n",
       "      <th>Destination Latitude</th>\n",
       "      <th>Destination Longitude</th>\n",
       "    </tr>\n",
       "  </thead>\n",
       "  <tbody>\n",
       "    <tr>\n",
       "      <th>0</th>\n",
       "      <td>1</td>\n",
       "      <td>392001</td>\n",
       "      <td>243828</td>\n",
       "      <td>accepted</td>\n",
       "      <td>6.602207</td>\n",
       "      <td>3.270465</td>\n",
       "      <td>392001</td>\n",
       "      <td>2021-07-01 09:30:59</td>\n",
       "      <td>2021-07-01 09:34:36</td>\n",
       "      <td>3.616667</td>\n",
       "      <td>6.601042</td>\n",
       "      <td>3.276634</td>\n",
       "      <td>6.450107</td>\n",
       "      <td>3.391615</td>\n",
       "    </tr>\n",
       "    <tr>\n",
       "      <th>1</th>\n",
       "      <td>2</td>\n",
       "      <td>392001</td>\n",
       "      <td>243588</td>\n",
       "      <td>rejected</td>\n",
       "      <td>6.592097</td>\n",
       "      <td>3.287445</td>\n",
       "      <td>392001</td>\n",
       "      <td>2021-07-01 09:30:59</td>\n",
       "      <td>2021-07-01 09:34:36</td>\n",
       "      <td>3.616667</td>\n",
       "      <td>6.601042</td>\n",
       "      <td>3.276634</td>\n",
       "      <td>6.450107</td>\n",
       "      <td>3.391615</td>\n",
       "    </tr>\n",
       "    <tr>\n",
       "      <th>2</th>\n",
       "      <td>3</td>\n",
       "      <td>392001</td>\n",
       "      <td>243830</td>\n",
       "      <td>rejected</td>\n",
       "      <td>6.596133</td>\n",
       "      <td>3.281784</td>\n",
       "      <td>392001</td>\n",
       "      <td>2021-07-01 09:30:59</td>\n",
       "      <td>2021-07-01 09:34:36</td>\n",
       "      <td>3.616667</td>\n",
       "      <td>6.601042</td>\n",
       "      <td>3.276634</td>\n",
       "      <td>6.450107</td>\n",
       "      <td>3.391615</td>\n",
       "    </tr>\n",
       "    <tr>\n",
       "      <th>3</th>\n",
       "      <td>4</td>\n",
       "      <td>392001</td>\n",
       "      <td>243539</td>\n",
       "      <td>rejected</td>\n",
       "      <td>6.596142</td>\n",
       "      <td>3.280526</td>\n",
       "      <td>392001</td>\n",
       "      <td>2021-07-01 09:30:59</td>\n",
       "      <td>2021-07-01 09:34:36</td>\n",
       "      <td>3.616667</td>\n",
       "      <td>6.601042</td>\n",
       "      <td>3.276634</td>\n",
       "      <td>6.450107</td>\n",
       "      <td>3.391615</td>\n",
       "    </tr>\n",
       "    <tr>\n",
       "      <th>4</th>\n",
       "      <td>5</td>\n",
       "      <td>392001</td>\n",
       "      <td>171653</td>\n",
       "      <td>rejected</td>\n",
       "      <td>6.609232</td>\n",
       "      <td>3.288800</td>\n",
       "      <td>392001</td>\n",
       "      <td>2021-07-01 09:30:59</td>\n",
       "      <td>2021-07-01 09:34:36</td>\n",
       "      <td>3.616667</td>\n",
       "      <td>6.601042</td>\n",
       "      <td>3.276634</td>\n",
       "      <td>6.450107</td>\n",
       "      <td>3.391615</td>\n",
       "    </tr>\n",
       "  </tbody>\n",
       "</table>\n",
       "</div>"
      ],
      "text/plain": [
       "   id  order_id  driver_id driver_action       lat       lng  Trip ID  \\\n",
       "0   1    392001     243828      accepted  6.602207  3.270465   392001   \n",
       "1   2    392001     243588      rejected  6.592097  3.287445   392001   \n",
       "2   3    392001     243830      rejected  6.596133  3.281784   392001   \n",
       "3   4    392001     243539      rejected  6.596142  3.280526   392001   \n",
       "4   5    392001     171653      rejected  6.609232  3.288800   392001   \n",
       "\n",
       "       Trip Start Time        Trip End Time  Trip Duration  Origin Latitude  \\\n",
       "0  2021-07-01 09:30:59  2021-07-01 09:34:36       3.616667         6.601042   \n",
       "1  2021-07-01 09:30:59  2021-07-01 09:34:36       3.616667         6.601042   \n",
       "2  2021-07-01 09:30:59  2021-07-01 09:34:36       3.616667         6.601042   \n",
       "3  2021-07-01 09:30:59  2021-07-01 09:34:36       3.616667         6.601042   \n",
       "4  2021-07-01 09:30:59  2021-07-01 09:34:36       3.616667         6.601042   \n",
       "\n",
       "   Origin Longitude  Destination Latitude  Destination Longitude  \n",
       "0          3.276634              6.450107               3.391615  \n",
       "1          3.276634              6.450107               3.391615  \n",
       "2          3.276634              6.450107               3.391615  \n",
       "3          3.276634              6.450107               3.391615  \n",
       "4          3.276634              6.450107               3.391615  "
      ]
     },
     "execution_count": 4,
     "metadata": {},
     "output_type": "execute_result"
    }
   ],
   "source": [
    "merged_df= pd.read_csv('merged.csv')\n",
    "merged_df.head()"
   ]
  },
  {
   "cell_type": "code",
   "execution_count": 9,
   "metadata": {},
   "outputs": [
    {
     "data": {
      "text/plain": [
       "id                         int64\n",
       "order_id                   int64\n",
       "driver_id                  int64\n",
       "driver_action             object\n",
       "lat                      float64\n",
       "lng                      float64\n",
       "Trip ID                    int64\n",
       "Trip Start Time           object\n",
       "Trip End Time             object\n",
       "Trip Duration            float64\n",
       "Origin Latitude          float64\n",
       "Origin Longitude         float64\n",
       "Destination Latitude     float64\n",
       "Destination Longitude    float64\n",
       "dtype: object"
      ]
     },
     "execution_count": 9,
     "metadata": {},
     "output_type": "execute_result"
    }
   ],
   "source": [
    "merged_df.dtypes"
   ]
  },
  {
   "cell_type": "code",
   "execution_count": 11,
   "metadata": {},
   "outputs": [],
   "source": [
    "merged_df['Trip Start Time'] = pd.to_datetime(merged_df['Trip Start Time'])\n",
    "merged_df['Trip End Time'] = pd.to_datetime(merged_df['Trip End Time'])\n",
    "\n",
    "completed_orders['Trip Start Time'] = pd.to_datetime(completed_orders['Trip Start Time'])\n",
    "completed_orders['Trip End Time'] = pd.to_datetime(completed_orders['Trip End Time'])"
   ]
  },
  {
   "cell_type": "code",
   "execution_count": 13,
   "metadata": {},
   "outputs": [
    {
     "data": {
      "text/plain": [
       "(Trip ID                           int64\n",
       " Trip Origin                      object\n",
       " Trip Destination                 object\n",
       " Trip Start Time          datetime64[ns]\n",
       " Trip End Time            datetime64[ns]\n",
       " Trip Duration                   float64\n",
       " Origin Latitude                 float64\n",
       " Origin Longitude                float64\n",
       " Destination Latitude            float64\n",
       " Destination Longitude           float64\n",
       " dtype: object,\n",
       " id                                int64\n",
       " order_id                          int64\n",
       " driver_id                         int64\n",
       " driver_action                    object\n",
       " lat                             float64\n",
       " lng                             float64\n",
       " Trip ID                           int64\n",
       " Trip Start Time          datetime64[ns]\n",
       " Trip End Time            datetime64[ns]\n",
       " Trip Duration                   float64\n",
       " Origin Latitude                 float64\n",
       " Origin Longitude                float64\n",
       " Destination Latitude            float64\n",
       " Destination Longitude           float64\n",
       " dtype: object)"
      ]
     },
     "execution_count": 13,
     "metadata": {},
     "output_type": "execute_result"
    }
   ],
   "source": [
    "completed_orders.dtypes, merged_df.dtypes"
   ]
  },
  {
   "cell_type": "code",
   "execution_count": 14,
   "metadata": {},
   "outputs": [],
   "source": [
    "merged_df.rename(columns={'Trip Duration': 'Trip Duration(minutes)'}, inplace=True)\n"
   ]
  },
  {
   "cell_type": "code",
   "execution_count": 15,
   "metadata": {},
   "outputs": [
    {
     "name": "stdout",
     "output_type": "stream",
     "text": [
      "First Date: 2021-07-01 06:21:02\n",
      "Last Date: 2022-06-13 10:42:15\n"
     ]
    }
   ],
   "source": [
    "first_date = completed_orders['Trip Start Time'].min()\n",
    "last_date = completed_orders['Trip End Time'].max()\n",
    "\n",
    "print(\"First Date:\", first_date)\n",
    "print(\"Last Date:\", last_date)\n"
   ]
  },
  {
   "cell_type": "code",
   "execution_count": 16,
   "metadata": {},
   "outputs": [
    {
     "name": "stdout",
     "output_type": "stream",
     "text": [
      "First Date: 2021-07-01 06:39:51\n",
      "Last Date: 2021-08-04 16:50:57\n"
     ]
    }
   ],
   "source": [
    "merged_first_date = merged_df['Trip Start Time'].min()\n",
    "merged_last_date = merged_df['Trip End Time'].max()\n",
    "\n",
    "print(\"First Date:\", merged_first_date)\n",
    "print(\"Last Date:\", merged_last_date)"
   ]
  },
  {
   "cell_type": "markdown",
   "metadata": {},
   "source": [
    "## Compute Distances and Driving Speed\n",
    "We will use the geopy library to compute the geodesic distance and the haversine function to compute the haversine distance. We will also calculate the speed based on these distances and timestamps."
   ]
  },
  {
   "cell_type": "code",
   "execution_count": 5,
   "metadata": {},
   "outputs": [],
   "source": [
    "\n",
    "# Helper function to compute geodesic distance\n",
    "def compute_geodesic_distance(coord1, coord2):\n",
    "    return geodesic(coord1, coord2).meters\n"
   ]
  },
  {
   "cell_type": "code",
   "execution_count": 6,
   "metadata": {},
   "outputs": [],
   "source": [
    "# Helper function to compute haversine distance\n",
    "def compute_haversine_distance(coord1, coord2):\n",
    "    return hs.haversine(coord1, coord2) * 1000  # Convert to meters\n"
   ]
  },
  {
   "cell_type": "code",
   "execution_count": 7,
   "metadata": {},
   "outputs": [],
   "source": [
    "# Helper function to compute speed\n",
    "def compute_speed(distance, start_time, end_time):\n",
    "    time_diff = (end_time - start_time).total_seconds() / 3600.0  # in hours\n",
    "    if time_diff == 0:\n",
    "        return 0\n",
    "    return distance / time_diff"
   ]
  },
  {
   "cell_type": "code",
   "execution_count": 9,
   "metadata": {},
   "outputs": [],
   "source": [
    "merged_df['Geodesic Distance (m)'] = merged_df.apply(\n",
    "    lambda row: compute_geodesic_distance((row['Origin Latitude'], row['Origin Longitude']),\n",
    "                                          (row['Destination Latitude'], row['Destination Longitude'])), axis=1)\n"
   ]
  },
  {
   "cell_type": "code",
   "execution_count": 10,
   "metadata": {},
   "outputs": [],
   "source": [
    "merged_df['Haversine Distance (m)'] = merged_df.apply(\n",
    "    lambda row: compute_haversine_distance((row['Origin Latitude'], row['Origin Longitude']),\n",
    "                                          (row['Destination Latitude'], row['Destination Longitude'])), axis=1)\n",
    "\n",
    "\n"
   ]
  },
  {
   "cell_type": "code",
   "execution_count": null,
   "metadata": {},
   "outputs": [],
   "source": [
    "merged_df['Speed (m/s)'] = merged_df.apply(\n",
    "    lambda row: compute_speed(row['Geodesic Distance (m)'], row['Trip Start Time'], row['Trip End Time']), axis=1)\n",
    "\n",
    "merged_df.head()"
   ]
  },
  {
   "cell_type": "markdown",
   "metadata": {},
   "source": [
    "## Compute Number of Riders and Orders within 500m Circles"
   ]
  },
  {
   "cell_type": "code",
   "execution_count": null,
   "metadata": {},
   "outputs": [],
   "source": [
    "# Helper function to count riders/orders within a 500m radius\n",
    "def count_within_radius(df, origin, radius=500):\n",
    "    origin_coords = (origin['lat'], origin['lng'])\n",
    "    return df.apply(lambda row: compute_haversine_distance(origin_coords, (row['lat'], row['lng'])) <= radius, axis=1).sum()\n",
    "\n"
   ]
  },
  {
   "cell_type": "code",
   "execution_count": null,
   "metadata": {},
   "outputs": [],
   "source": [
    "accepted_orders = merged_df[merged_df['driver_action'] == 'accepted']\n",
    "unfulfilled_orders = merged_df[merged_df['driver_action'] != 'accepted']"
   ]
  },
  {
   "cell_type": "code",
   "execution_count": null,
   "metadata": {},
   "outputs": [],
   "source": [
    "merged_df['Accepted Riders within 500m'] = merged_df.apply(\n",
    "    lambda row: count_within_radius(accepted_orders, row), axis=1)\n"
   ]
  },
  {
   "cell_type": "code",
   "execution_count": null,
   "metadata": {},
   "outputs": [],
   "source": [
    "merged_df['Unfulfilled Orders within 500m'] = merged_df.apply(\n",
    "    lambda row: count_within_radius(unfulfilled_orders, row), axis=1)\n"
   ]
  },
  {
   "cell_type": "code",
   "execution_count": null,
   "metadata": {},
   "outputs": [],
   "source": [
    "print(merged_df[['order_id', 'Accepted Riders within 500m', 'Unfulfilled Orders within 500m']].head())"
   ]
  },
  {
   "cell_type": "markdown",
   "metadata": {},
   "source": [
    "## Compute Clusters of Delivery Starting Locations and Destinations\n",
    "We will use the KMeans clustering algorithm from scikit-learn to find clusters."
   ]
  },
  {
   "cell_type": "code",
   "execution_count": null,
   "metadata": {},
   "outputs": [],
   "source": [
    "from sklearn.cluster import KMeans\n",
    "import numpy as np\n",
    "\n",
    "# Extracting starting and destination coordinates\n",
    "starting_coords = merged_df[['Origin Latitude', 'Origin Longitude']].drop_duplicates().to_numpy()\n",
    "destination_coords = merged_df[['Destination Latitude', 'Destination Longitude']].drop_duplicates().to_numpy()\n",
    "\n",
    "# Clustering starting locations\n",
    "kmeans_start = KMeans(n_clusters=10, random_state=0).fit(starting_coords)\n",
    "merged_df['Start Cluster'] = kmeans_start.predict(merged_df[['Origin Latitude', 'Origin Longitude']])\n",
    "\n",
    "# Clustering destination locations\n",
    "kmeans_dest = KMeans(n_clusters=10, random_state=0).fit(destination_coords)\n",
    "merged_df['Destination Cluster'] = kmeans_dest.predict(merged_df[['Destination Latitude', 'Destination Longitude']])\n",
    "\n",
    "print(merged_df[['order_id', 'Start Cluster', 'Destination Cluster']].head())"
   ]
  },
  {
   "cell_type": "code",
   "execution_count": null,
   "metadata": {},
   "outputs": [],
   "source": []
  },
  {
   "cell_type": "markdown",
   "metadata": {},
   "source": [
    "\n",
    "# Feature Engineering\n",
    "\n",
    "Create new features based on time and location, such as trip duration, day of the week, hour of the day, and whether the trip occurred during a holiday or special event. Compute distances, driving speed, and other relevant metrics.\n",
    "\n"
   ]
  },
  {
   "cell_type": "code",
   "execution_count": 20,
   "metadata": {},
   "outputs": [
    {
     "data": {
      "text/plain": [
       "Index(['id', 'order_id', 'driver_id', 'driver_action', 'lat', 'lng', 'Trip ID',\n",
       "       'Trip Start Time', 'Trip End Time', 'Trip Duration', 'Origin Latitude',\n",
       "       'Origin Longitude', 'Destination Latitude', 'Destination Longitude'],\n",
       "      dtype='object')"
      ]
     },
     "execution_count": 20,
     "metadata": {},
     "output_type": "execute_result"
    }
   ],
   "source": [
    "merged_df.columns"
   ]
  },
  {
   "cell_type": "code",
   "execution_count": 25,
   "metadata": {},
   "outputs": [
    {
     "name": "stdout",
     "output_type": "stream",
     "text": [
      "<class 'pandas.core.series.Series'>\n",
      "RangeIndex: 771336 entries, 0 to 771335\n",
      "Series name: order_id\n",
      "Non-Null Count   Dtype\n",
      "--------------   -----\n",
      "771336 non-null  int64\n",
      "dtypes: int64(1)\n",
      "memory usage: 5.9 MB\n"
     ]
    }
   ],
   "source": [
    "merged_df['order_id'].info()"
   ]
  },
  {
   "cell_type": "code",
   "execution_count": null,
   "metadata": {},
   "outputs": [],
   "source": [
    "# Feature Engineering\n",
    "# Create new features: Day of the week, Hour of the day, and Trip Duration in minutes\n",
    "merged_df['Day of Week'] = merge_df['Trip Start Time'].dt.dayofweek\n",
    "merged_df['Hour of Day'] = merged_df['Trip Start Time'].dt.hour\n",
    "\n",
    "# Display the first few rows to confirm the new features\n",
    "new_features_sample = merged_df[['Trip ID', 'Trip Start Time', 'Trip End Time', 'Trip Duration', 'Day of Week', 'Hour of Day']].head()\n",
    "\n",
    "new_features_sample"
   ]
  },
  {
   "cell_type": "code",
   "execution_count": 26,
   "metadata": {},
   "outputs": [],
   "source": [
    "def haversine_distance(lat1, lon1, lat2, lon2):\n",
    "    # Convert latitude and longitude from degrees to radians\n",
    "    lat1, lon1, lat2, lon2 = map(np.radians, [lat1, lon1, lat2, lon2])\n",
    "    \n",
    "    # Haversine formula\n",
    "    dlat = lat2 - lat1\n",
    "    dlon = lon2 - lon1\n",
    "    a = np.sin(dlat/2)**2 + np.cos(lat1) * np.cos(lat2) * np.sin(dlon/2)**2\n",
    "    c = 2 * np.arctan2(np.sqrt(a), np.sqrt(1-a))\n",
    "    r = 6371  # Radius of Earth in kilometers\n",
    "    return c * r"
   ]
  },
  {
   "cell_type": "code",
   "execution_count": 34,
   "metadata": {},
   "outputs": [
    {
     "data": {
      "text/plain": [
       "(driver_id\n",
       " 171165    4514\n",
       " 243768    4036\n",
       " 245538    3643\n",
       " 243417    3459\n",
       " 244007    3453\n",
       " Name: count, dtype: int64,\n",
       " driver_id\n",
       " 243502    1\n",
       " 243620    1\n",
       " 245688    1\n",
       " 244225    1\n",
       " 242876    1\n",
       " Name: count, dtype: int64)"
      ]
     },
     "execution_count": 34,
     "metadata": {},
     "output_type": "execute_result"
    }
   ],
   "source": [
    "# Count the number of rejections per driver\n",
    "rejections = merged_df[merged_df['driver_action'] == 'rejected']\n",
    "rejections_per_driver = rejections['driver_id'].value_counts()\n",
    "\n",
    "# Display the results\n",
    "rejections_per_driver.head(), rejections_per_driver.tail()"
   ]
  },
  {
   "cell_type": "code",
   "execution_count": 37,
   "metadata": {},
   "outputs": [],
   "source": [
    "accepted = merged_df[merged_df['driver_action'] == 'accepted']\n",
    "#accepted"
   ]
  },
  {
   "cell_type": "code",
   "execution_count": 27,
   "metadata": {},
   "outputs": [],
   "source": [
    "import numpy as np\n",
    "\n",
    "# Calculate the distance between origins and destinations\n",
    "merged_df['Trip Distance (km)'] = haversine_distance(\n",
    "    merged_df['Origin Latitude'], merged_df['Origin Longitude'],\n",
    "    merged_df['Destination Latitude'], merged_df['Destination Longitude']\n",
    ")\n",
    "\n"
   ]
  },
  {
   "cell_type": "code",
   "execution_count": 31,
   "metadata": {},
   "outputs": [
    {
     "data": {
      "text/html": [
       "<div>\n",
       "<style scoped>\n",
       "    .dataframe tbody tr th:only-of-type {\n",
       "        vertical-align: middle;\n",
       "    }\n",
       "\n",
       "    .dataframe tbody tr th {\n",
       "        vertical-align: top;\n",
       "    }\n",
       "\n",
       "    .dataframe thead th {\n",
       "        text-align: right;\n",
       "    }\n",
       "</style>\n",
       "<table border=\"1\" class=\"dataframe\">\n",
       "  <thead>\n",
       "    <tr style=\"text-align: right;\">\n",
       "      <th></th>\n",
       "      <th>Trip ID</th>\n",
       "      <th>driver_id</th>\n",
       "      <th>Origin Latitude</th>\n",
       "      <th>Origin Longitude</th>\n",
       "      <th>Destination Latitude</th>\n",
       "      <th>Destination Longitude</th>\n",
       "      <th>Trip Distance (km)</th>\n",
       "    </tr>\n",
       "  </thead>\n",
       "  <tbody>\n",
       "    <tr>\n",
       "      <th>0</th>\n",
       "      <td>392001</td>\n",
       "      <td>243828</td>\n",
       "      <td>6.601042</td>\n",
       "      <td>3.276634</td>\n",
       "      <td>6.450107</td>\n",
       "      <td>3.391615</td>\n",
       "      <td>21.048262</td>\n",
       "    </tr>\n",
       "    <tr>\n",
       "      <th>1</th>\n",
       "      <td>392001</td>\n",
       "      <td>243588</td>\n",
       "      <td>6.601042</td>\n",
       "      <td>3.276634</td>\n",
       "      <td>6.450107</td>\n",
       "      <td>3.391615</td>\n",
       "      <td>21.048262</td>\n",
       "    </tr>\n",
       "    <tr>\n",
       "      <th>2</th>\n",
       "      <td>392001</td>\n",
       "      <td>243830</td>\n",
       "      <td>6.601042</td>\n",
       "      <td>3.276634</td>\n",
       "      <td>6.450107</td>\n",
       "      <td>3.391615</td>\n",
       "      <td>21.048262</td>\n",
       "    </tr>\n",
       "    <tr>\n",
       "      <th>3</th>\n",
       "      <td>392001</td>\n",
       "      <td>243539</td>\n",
       "      <td>6.601042</td>\n",
       "      <td>3.276634</td>\n",
       "      <td>6.450107</td>\n",
       "      <td>3.391615</td>\n",
       "      <td>21.048262</td>\n",
       "    </tr>\n",
       "    <tr>\n",
       "      <th>4</th>\n",
       "      <td>392001</td>\n",
       "      <td>171653</td>\n",
       "      <td>6.601042</td>\n",
       "      <td>3.276634</td>\n",
       "      <td>6.450107</td>\n",
       "      <td>3.391615</td>\n",
       "      <td>21.048262</td>\n",
       "    </tr>\n",
       "  </tbody>\n",
       "</table>\n",
       "</div>"
      ],
      "text/plain": [
       "   Trip ID  driver_id  Origin Latitude  Origin Longitude  \\\n",
       "0   392001     243828         6.601042          3.276634   \n",
       "1   392001     243588         6.601042          3.276634   \n",
       "2   392001     243830         6.601042          3.276634   \n",
       "3   392001     243539         6.601042          3.276634   \n",
       "4   392001     171653         6.601042          3.276634   \n",
       "\n",
       "   Destination Latitude  Destination Longitude  Trip Distance (km)  \n",
       "0              6.450107               3.391615           21.048262  \n",
       "1              6.450107               3.391615           21.048262  \n",
       "2              6.450107               3.391615           21.048262  \n",
       "3              6.450107               3.391615           21.048262  \n",
       "4              6.450107               3.391615           21.048262  "
      ]
     },
     "execution_count": 31,
     "metadata": {},
     "output_type": "execute_result"
    }
   ],
   "source": [
    "# Display the first few rows to confirm the new feature\n",
    "distance_df = merged_df[['Trip ID',\n",
    "                         'driver_id',\n",
    "                         'Origin Latitude',\n",
    "                         'Origin Longitude',\n",
    "                         'Destination Latitude',\n",
    "                         'Destination Longitude',\n",
    "                         'Trip Distance (km)']]\n",
    "\n",
    "distance_df.head()"
   ]
  },
  {
   "cell_type": "code",
   "execution_count": 38,
   "metadata": {},
   "outputs": [
    {
     "data": {
      "text/plain": [
       "id                                int64\n",
       "order_id                          int64\n",
       "driver_id                         int64\n",
       "driver_action                    object\n",
       "lat                             float64\n",
       "lng                             float64\n",
       "Trip ID                           int64\n",
       "Trip Start Time          datetime64[ns]\n",
       "Trip End Time            datetime64[ns]\n",
       "Trip Duration                   float64\n",
       "Origin Latitude                 float64\n",
       "Origin Longitude                float64\n",
       "Destination Latitude            float64\n",
       "Destination Longitude           float64\n",
       "Trip Distance (km)              float64\n",
       "dtype: object"
      ]
     },
     "execution_count": 38,
     "metadata": {},
     "output_type": "execute_result"
    }
   ],
   "source": [
    "merged_df.dtypes"
   ]
  },
  {
   "cell_type": "code",
   "execution_count": 39,
   "metadata": {},
   "outputs": [],
   "source": [
    "# Import module\n",
    "from geopy.geocoders import Photon\n",
    "geolocator = Photon(user_agent=\"measurements\")\n",
    " \n",
    "# Assign Latitude & Longitude\n",
    "Latitude = merged_df['Origin Latitude'][0]\n",
    "Longitude = merged_df['Origin Longitude'][0]\n",
    " \n"
   ]
  },
  {
   "cell_type": "code",
   "execution_count": 40,
   "metadata": {},
   "outputs": [
    {
     "name": "stdout",
     "output_type": "stream",
     "text": [
      "Latitude:  6.6010417\n",
      "Longitude:  3.2766339\n"
     ]
    }
   ],
   "source": [
    "# Displaying Latitude and Longitude\n",
    "print(\"Latitude: \", Latitude)\n",
    "print(\"Longitude: \", Longitude)\n",
    " "
   ]
  },
  {
   "cell_type": "code",
   "execution_count": 41,
   "metadata": {},
   "outputs": [
    {
     "name": "stdout",
     "output_type": "stream",
     "text": [
      "\n",
      "Location of the given Latitude and Longitude:\n",
      "Fadayomi Street, 100265, Lagos, Nigeria\n"
     ]
    }
   ],
   "source": [
    "\n",
    "# Get location with geocode\n",
    "location = geolocator.reverse(f\"{Latitude},{Longitude}\")\n",
    " \n",
    "# Display location\n",
    "print(\"\\nLocation of the given Latitude and Longitude:\")\n",
    "print(location)"
   ]
  },
  {
   "cell_type": "code",
   "execution_count": null,
   "metadata": {},
   "outputs": [],
   "source": [
    "\n",
    "\n"
   ]
  },
  {
   "cell_type": "markdown",
   "metadata": {},
   "source": [
    "## Holidays in Nigeria"
   ]
  },
  {
   "cell_type": "code",
   "execution_count": 45,
   "metadata": {},
   "outputs": [
    {
     "data": {
      "text/plain": [
       "0         2021-07-01 09:00:00\n",
       "1         2021-07-01 09:00:00\n",
       "2         2021-07-01 09:00:00\n",
       "3         2021-07-01 09:00:00\n",
       "4         2021-07-01 09:00:00\n",
       "                 ...         \n",
       "771331    2021-07-06 10:00:00\n",
       "771332    2021-07-06 10:00:00\n",
       "771333    2021-07-06 10:00:00\n",
       "771334    2021-07-06 10:00:00\n",
       "771335    2021-07-06 10:00:00\n",
       "Name: Trip Date, Length: 771336, dtype: object"
      ]
     },
     "execution_count": 45,
     "metadata": {},
     "output_type": "execute_result"
    }
   ],
   "source": [
    "# Merge the weather data with trip data on the date\n",
    "merged_df['Trip Date'] = merged_df['Trip Start Time'].dt.strftime('%Y-%m-%d %H:00:00')\n",
    "merged_df['Trip Date']\n"
   ]
  },
  {
   "cell_type": "code",
   "execution_count": 46,
   "metadata": {},
   "outputs": [
    {
     "data": {
      "text/plain": [
       "dict_items([(datetime.date(2021, 1, 1), \"New Year's Day\"), (datetime.date(2021, 4, 2), 'Good Friday'), (datetime.date(2021, 4, 5), 'Easter Monday'), (datetime.date(2021, 5, 1), \"Workers' Day\"), (datetime.date(2021, 6, 12), 'Democracy Day'), (datetime.date(2021, 10, 1), 'Independence Day'), (datetime.date(2021, 12, 25), 'Christmas Day'), (datetime.date(2021, 12, 26), 'Boxing Day'), (datetime.date(2021, 5, 13), 'Eid-el-Fitr (estimated)'), (datetime.date(2021, 5, 14), 'Eid-el-Fitr Holiday (estimated)'), (datetime.date(2021, 7, 20), 'Eid-el-Kabir (estimated)'), (datetime.date(2021, 7, 21), 'Eid-el-Kabir Holiday (estimated)'), (datetime.date(2021, 10, 18), 'Eid-el-Mawlid (estimated)'), (datetime.date(2021, 5, 3), \"Workers' Day (observed)\"), (datetime.date(2021, 6, 14), 'Democracy Day (observed)'), (datetime.date(2021, 12, 27), 'Christmas Day (observed)'), (datetime.date(2021, 12, 28), 'Boxing Day (observed)'), (datetime.date(2022, 1, 1), \"New Year's Day\"), (datetime.date(2022, 4, 15), 'Good Friday'), (datetime.date(2022, 4, 18), 'Easter Monday'), (datetime.date(2022, 5, 1), \"Workers' Day\"), (datetime.date(2022, 6, 12), 'Democracy Day'), (datetime.date(2022, 10, 1), 'Independence Day'), (datetime.date(2022, 12, 25), 'Christmas Day'), (datetime.date(2022, 12, 26), 'Boxing Day'), (datetime.date(2022, 5, 2), 'Eid-el-Fitr (estimated)'), (datetime.date(2022, 5, 3), 'Eid-el-Fitr Holiday (estimated)'), (datetime.date(2022, 7, 9), 'Eid-el-Kabir (estimated)'), (datetime.date(2022, 7, 10), 'Eid-el-Kabir Holiday (estimated)'), (datetime.date(2022, 10, 8), 'Eid-el-Mawlid (estimated)'), (datetime.date(2022, 1, 3), \"New Year's Day (observed)\"), (datetime.date(2022, 5, 4), \"Workers' Day (observed)\"), (datetime.date(2022, 6, 13), 'Democracy Day (observed)'), (datetime.date(2022, 7, 11), 'Eid-el-Kabir (estimated) (observed)'), (datetime.date(2022, 7, 12), 'Eid-el-Kabir Holiday (estimated) (observed)'), (datetime.date(2022, 10, 3), 'Independence Day (observed)'), (datetime.date(2022, 10, 10), 'Eid-el-Mawlid (estimated) (observed)'), (datetime.date(2022, 12, 27), 'Christmas Day (observed)')])"
      ]
     },
     "execution_count": 46,
     "metadata": {},
     "output_type": "execute_result"
    }
   ],
   "source": [
    "import holidays\n",
    "\n",
    "nigerian_holidays = holidays.country_holidays(country='NG', years=[2021, 2022])\n",
    "\n",
    "nigerian_holidays.items()\n",
    "\n"
   ]
  },
  {
   "cell_type": "code",
   "execution_count": 48,
   "metadata": {},
   "outputs": [
    {
     "name": "stdout",
     "output_type": "stream",
     "text": [
      "<class 'datetime.date'> 2021-01-01 New Year's Day\n",
      "<class 'datetime.date'> 2021-04-02 Good Friday\n",
      "<class 'datetime.date'> 2021-04-05 Easter Monday\n",
      "<class 'datetime.date'> 2021-05-01 Workers' Day\n",
      "<class 'datetime.date'> 2021-06-12 Democracy Day\n",
      "<class 'datetime.date'> 2021-10-01 Independence Day\n",
      "<class 'datetime.date'> 2021-12-25 Christmas Day\n",
      "<class 'datetime.date'> 2021-12-26 Boxing Day\n",
      "<class 'datetime.date'> 2021-05-13 Eid-el-Fitr (estimated)\n",
      "<class 'datetime.date'> 2021-05-14 Eid-el-Fitr Holiday (estimated)\n",
      "<class 'datetime.date'> 2021-07-20 Eid-el-Kabir (estimated)\n",
      "<class 'datetime.date'> 2021-07-21 Eid-el-Kabir Holiday (estimated)\n",
      "<class 'datetime.date'> 2021-10-18 Eid-el-Mawlid (estimated)\n",
      "<class 'datetime.date'> 2021-05-03 Workers' Day (observed)\n",
      "<class 'datetime.date'> 2021-06-14 Democracy Day (observed)\n",
      "<class 'datetime.date'> 2021-12-27 Christmas Day (observed)\n",
      "<class 'datetime.date'> 2021-12-28 Boxing Day (observed)\n",
      "<class 'datetime.date'> 2022-01-01 New Year's Day\n",
      "<class 'datetime.date'> 2022-04-15 Good Friday\n",
      "<class 'datetime.date'> 2022-04-18 Easter Monday\n",
      "<class 'datetime.date'> 2022-05-01 Workers' Day\n",
      "<class 'datetime.date'> 2022-06-12 Democracy Day\n",
      "<class 'datetime.date'> 2022-10-01 Independence Day\n",
      "<class 'datetime.date'> 2022-12-25 Christmas Day\n",
      "<class 'datetime.date'> 2022-12-26 Boxing Day\n",
      "<class 'datetime.date'> 2022-05-02 Eid-el-Fitr (estimated)\n",
      "<class 'datetime.date'> 2022-05-03 Eid-el-Fitr Holiday (estimated)\n",
      "<class 'datetime.date'> 2022-07-09 Eid-el-Kabir (estimated)\n",
      "<class 'datetime.date'> 2022-07-10 Eid-el-Kabir Holiday (estimated)\n",
      "<class 'datetime.date'> 2022-10-08 Eid-el-Mawlid (estimated)\n",
      "<class 'datetime.date'> 2022-01-03 New Year's Day (observed)\n",
      "<class 'datetime.date'> 2022-05-04 Workers' Day (observed)\n",
      "<class 'datetime.date'> 2022-06-13 Democracy Day (observed)\n",
      "<class 'datetime.date'> 2022-07-11 Eid-el-Kabir (estimated) (observed)\n",
      "<class 'datetime.date'> 2022-07-12 Eid-el-Kabir Holiday (estimated) (observed)\n",
      "<class 'datetime.date'> 2022-10-03 Independence Day (observed)\n",
      "<class 'datetime.date'> 2022-10-10 Eid-el-Mawlid (estimated) (observed)\n",
      "<class 'datetime.date'> 2022-12-27 Christmas Day (observed)\n"
     ]
    }
   ],
   "source": [
    "for date, holidays in nigerian_holidays.items():\n",
    "    print(type(date), date, holidays)"
   ]
  },
  {
   "cell_type": "code",
   "execution_count": 49,
   "metadata": {},
   "outputs": [
    {
     "data": {
      "text/plain": [
       "38"
      ]
     },
     "execution_count": 49,
     "metadata": {},
     "output_type": "execute_result"
    }
   ],
   "source": [
    "len(nigerian_holidays.items())"
   ]
  },
  {
   "cell_type": "code",
   "execution_count": 50,
   "metadata": {},
   "outputs": [
    {
     "data": {
      "text/plain": [
       "True"
      ]
     },
     "execution_count": 50,
     "metadata": {},
     "output_type": "execute_result"
    }
   ],
   "source": [
    "# nigerian_holidays.get('2021-4-2')\n",
    "\"2022, 10, 01\" in nigerian_holidays\n"
   ]
  },
  {
   "cell_type": "code",
   "execution_count": 52,
   "metadata": {},
   "outputs": [
    {
     "data": {
      "text/html": [
       "<div>\n",
       "<style scoped>\n",
       "    .dataframe tbody tr th:only-of-type {\n",
       "        vertical-align: middle;\n",
       "    }\n",
       "\n",
       "    .dataframe tbody tr th {\n",
       "        vertical-align: top;\n",
       "    }\n",
       "\n",
       "    .dataframe thead th {\n",
       "        text-align: right;\n",
       "    }\n",
       "</style>\n",
       "<table border=\"1\" class=\"dataframe\">\n",
       "  <thead>\n",
       "    <tr style=\"text-align: right;\">\n",
       "      <th></th>\n",
       "      <th>id</th>\n",
       "      <th>order_id</th>\n",
       "      <th>driver_id</th>\n",
       "      <th>driver_action</th>\n",
       "      <th>lat</th>\n",
       "      <th>lng</th>\n",
       "      <th>Trip ID</th>\n",
       "      <th>Trip Start Time</th>\n",
       "      <th>Trip End Time</th>\n",
       "      <th>Trip Duration</th>\n",
       "      <th>Origin Latitude</th>\n",
       "      <th>Origin Longitude</th>\n",
       "      <th>Destination Latitude</th>\n",
       "      <th>Destination Longitude</th>\n",
       "      <th>Trip Distance (km)</th>\n",
       "      <th>Trip Date</th>\n",
       "    </tr>\n",
       "  </thead>\n",
       "  <tbody>\n",
       "    <tr>\n",
       "      <th>0</th>\n",
       "      <td>1</td>\n",
       "      <td>392001</td>\n",
       "      <td>243828</td>\n",
       "      <td>accepted</td>\n",
       "      <td>6.602207</td>\n",
       "      <td>3.270465</td>\n",
       "      <td>392001</td>\n",
       "      <td>2021-07-01 09:30:59</td>\n",
       "      <td>2021-07-01 09:34:36</td>\n",
       "      <td>3.616667</td>\n",
       "      <td>6.601042</td>\n",
       "      <td>3.276634</td>\n",
       "      <td>6.450107</td>\n",
       "      <td>3.391615</td>\n",
       "      <td>21.048262</td>\n",
       "      <td>2021-07-01 09:00:00</td>\n",
       "    </tr>\n",
       "    <tr>\n",
       "      <th>1</th>\n",
       "      <td>2</td>\n",
       "      <td>392001</td>\n",
       "      <td>243588</td>\n",
       "      <td>rejected</td>\n",
       "      <td>6.592097</td>\n",
       "      <td>3.287445</td>\n",
       "      <td>392001</td>\n",
       "      <td>2021-07-01 09:30:59</td>\n",
       "      <td>2021-07-01 09:34:36</td>\n",
       "      <td>3.616667</td>\n",
       "      <td>6.601042</td>\n",
       "      <td>3.276634</td>\n",
       "      <td>6.450107</td>\n",
       "      <td>3.391615</td>\n",
       "      <td>21.048262</td>\n",
       "      <td>2021-07-01 09:00:00</td>\n",
       "    </tr>\n",
       "  </tbody>\n",
       "</table>\n",
       "</div>"
      ],
      "text/plain": [
       "   id  order_id  driver_id driver_action       lat       lng  Trip ID  \\\n",
       "0   1    392001     243828      accepted  6.602207  3.270465   392001   \n",
       "1   2    392001     243588      rejected  6.592097  3.287445   392001   \n",
       "\n",
       "      Trip Start Time       Trip End Time  Trip Duration  Origin Latitude  \\\n",
       "0 2021-07-01 09:30:59 2021-07-01 09:34:36       3.616667         6.601042   \n",
       "1 2021-07-01 09:30:59 2021-07-01 09:34:36       3.616667         6.601042   \n",
       "\n",
       "   Origin Longitude  Destination Latitude  Destination Longitude  \\\n",
       "0          3.276634              6.450107               3.391615   \n",
       "1          3.276634              6.450107               3.391615   \n",
       "\n",
       "   Trip Distance (km)            Trip Date  \n",
       "0           21.048262  2021-07-01 09:00:00  \n",
       "1           21.048262  2021-07-01 09:00:00  "
      ]
     },
     "execution_count": 52,
     "metadata": {},
     "output_type": "execute_result"
    }
   ],
   "source": [
    "merged_df.head(2)"
   ]
  },
  {
   "cell_type": "code",
   "execution_count": 53,
   "metadata": {},
   "outputs": [],
   "source": [
    "merged_df['Is Holiday'] = merged_df['Trip Date'].apply(lambda x: int(x in nigerian_holidays))"
   ]
  },
  {
   "cell_type": "code",
   "execution_count": 62,
   "metadata": {},
   "outputs": [
    {
     "data": {
      "text/plain": [
       "array([0])"
      ]
     },
     "execution_count": 62,
     "metadata": {},
     "output_type": "execute_result"
    }
   ],
   "source": [
    "merged_df['Is Holiday'].unique()\n"
   ]
  },
  {
   "cell_type": "code",
   "execution_count": null,
   "metadata": {},
   "outputs": [],
   "source": []
  },
  {
   "cell_type": "code",
   "execution_count": 60,
   "metadata": {},
   "outputs": [
    {
     "ename": "KeyError",
     "evalue": "'Day of Week'",
     "output_type": "error",
     "traceback": [
      "\u001b[0;31m---------------------------------------------------------------------------\u001b[0m",
      "\u001b[0;31mKeyError\u001b[0m                                  Traceback (most recent call last)",
      "File \u001b[0;32m~/10X/Week8/Logistic optimization/Lenv/lib/python3.12/site-packages/pandas/core/indexes/base.py:3805\u001b[0m, in \u001b[0;36mIndex.get_loc\u001b[0;34m(self, key)\u001b[0m\n\u001b[1;32m   3804\u001b[0m \u001b[38;5;28;01mtry\u001b[39;00m:\n\u001b[0;32m-> 3805\u001b[0m     \u001b[38;5;28;01mreturn\u001b[39;00m \u001b[38;5;28;43mself\u001b[39;49m\u001b[38;5;241;43m.\u001b[39;49m\u001b[43m_engine\u001b[49m\u001b[38;5;241;43m.\u001b[39;49m\u001b[43mget_loc\u001b[49m\u001b[43m(\u001b[49m\u001b[43mcasted_key\u001b[49m\u001b[43m)\u001b[49m\n\u001b[1;32m   3806\u001b[0m \u001b[38;5;28;01mexcept\u001b[39;00m \u001b[38;5;167;01mKeyError\u001b[39;00m \u001b[38;5;28;01mas\u001b[39;00m err:\n",
      "File \u001b[0;32mindex.pyx:167\u001b[0m, in \u001b[0;36mpandas._libs.index.IndexEngine.get_loc\u001b[0;34m()\u001b[0m\n",
      "File \u001b[0;32mindex.pyx:196\u001b[0m, in \u001b[0;36mpandas._libs.index.IndexEngine.get_loc\u001b[0;34m()\u001b[0m\n",
      "File \u001b[0;32mpandas/_libs/hashtable_class_helper.pxi:7081\u001b[0m, in \u001b[0;36mpandas._libs.hashtable.PyObjectHashTable.get_item\u001b[0;34m()\u001b[0m\n",
      "File \u001b[0;32mpandas/_libs/hashtable_class_helper.pxi:7089\u001b[0m, in \u001b[0;36mpandas._libs.hashtable.PyObjectHashTable.get_item\u001b[0;34m()\u001b[0m\n",
      "\u001b[0;31mKeyError\u001b[0m: 'Day of Week'",
      "\nThe above exception was the direct cause of the following exception:\n",
      "\u001b[0;31mKeyError\u001b[0m                                  Traceback (most recent call last)",
      "Cell \u001b[0;32mIn[60], line 1\u001b[0m\n\u001b[0;32m----> 1\u001b[0m merged_df[\u001b[38;5;124m'\u001b[39m\u001b[38;5;124mIs Weekend\u001b[39m\u001b[38;5;124m'\u001b[39m] \u001b[38;5;241m=\u001b[39m \u001b[43mmerged_df\u001b[49m\u001b[43m[\u001b[49m\u001b[38;5;124;43m'\u001b[39;49m\u001b[38;5;124;43mDay of Week\u001b[39;49m\u001b[38;5;124;43m'\u001b[39;49m\u001b[43m]\u001b[49m\u001b[38;5;241m.\u001b[39mapply(\u001b[38;5;28;01mlambda\u001b[39;00m x: \u001b[38;5;241m1\u001b[39m \u001b[38;5;28;01mif\u001b[39;00m x \u001b[38;5;129;01min\u001b[39;00m [\u001b[38;5;241m5\u001b[39m, \u001b[38;5;241m6\u001b[39m] \u001b[38;5;28;01melse\u001b[39;00m \u001b[38;5;241m0\u001b[39m)\n",
      "File \u001b[0;32m~/10X/Week8/Logistic optimization/Lenv/lib/python3.12/site-packages/pandas/core/frame.py:4102\u001b[0m, in \u001b[0;36mDataFrame.__getitem__\u001b[0;34m(self, key)\u001b[0m\n\u001b[1;32m   4100\u001b[0m \u001b[38;5;28;01mif\u001b[39;00m \u001b[38;5;28mself\u001b[39m\u001b[38;5;241m.\u001b[39mcolumns\u001b[38;5;241m.\u001b[39mnlevels \u001b[38;5;241m>\u001b[39m \u001b[38;5;241m1\u001b[39m:\n\u001b[1;32m   4101\u001b[0m     \u001b[38;5;28;01mreturn\u001b[39;00m \u001b[38;5;28mself\u001b[39m\u001b[38;5;241m.\u001b[39m_getitem_multilevel(key)\n\u001b[0;32m-> 4102\u001b[0m indexer \u001b[38;5;241m=\u001b[39m \u001b[38;5;28;43mself\u001b[39;49m\u001b[38;5;241;43m.\u001b[39;49m\u001b[43mcolumns\u001b[49m\u001b[38;5;241;43m.\u001b[39;49m\u001b[43mget_loc\u001b[49m\u001b[43m(\u001b[49m\u001b[43mkey\u001b[49m\u001b[43m)\u001b[49m\n\u001b[1;32m   4103\u001b[0m \u001b[38;5;28;01mif\u001b[39;00m is_integer(indexer):\n\u001b[1;32m   4104\u001b[0m     indexer \u001b[38;5;241m=\u001b[39m [indexer]\n",
      "File \u001b[0;32m~/10X/Week8/Logistic optimization/Lenv/lib/python3.12/site-packages/pandas/core/indexes/base.py:3812\u001b[0m, in \u001b[0;36mIndex.get_loc\u001b[0;34m(self, key)\u001b[0m\n\u001b[1;32m   3807\u001b[0m     \u001b[38;5;28;01mif\u001b[39;00m \u001b[38;5;28misinstance\u001b[39m(casted_key, \u001b[38;5;28mslice\u001b[39m) \u001b[38;5;129;01mor\u001b[39;00m (\n\u001b[1;32m   3808\u001b[0m         \u001b[38;5;28misinstance\u001b[39m(casted_key, abc\u001b[38;5;241m.\u001b[39mIterable)\n\u001b[1;32m   3809\u001b[0m         \u001b[38;5;129;01mand\u001b[39;00m \u001b[38;5;28many\u001b[39m(\u001b[38;5;28misinstance\u001b[39m(x, \u001b[38;5;28mslice\u001b[39m) \u001b[38;5;28;01mfor\u001b[39;00m x \u001b[38;5;129;01min\u001b[39;00m casted_key)\n\u001b[1;32m   3810\u001b[0m     ):\n\u001b[1;32m   3811\u001b[0m         \u001b[38;5;28;01mraise\u001b[39;00m InvalidIndexError(key)\n\u001b[0;32m-> 3812\u001b[0m     \u001b[38;5;28;01mraise\u001b[39;00m \u001b[38;5;167;01mKeyError\u001b[39;00m(key) \u001b[38;5;28;01mfrom\u001b[39;00m \u001b[38;5;21;01merr\u001b[39;00m\n\u001b[1;32m   3813\u001b[0m \u001b[38;5;28;01mexcept\u001b[39;00m \u001b[38;5;167;01mTypeError\u001b[39;00m:\n\u001b[1;32m   3814\u001b[0m     \u001b[38;5;66;03m# If we have a listlike key, _check_indexing_error will raise\u001b[39;00m\n\u001b[1;32m   3815\u001b[0m     \u001b[38;5;66;03m#  InvalidIndexError. Otherwise we fall through and re-raise\u001b[39;00m\n\u001b[1;32m   3816\u001b[0m     \u001b[38;5;66;03m#  the TypeError.\u001b[39;00m\n\u001b[1;32m   3817\u001b[0m     \u001b[38;5;28mself\u001b[39m\u001b[38;5;241m.\u001b[39m_check_indexing_error(key)\n",
      "\u001b[0;31mKeyError\u001b[0m: 'Day of Week'"
     ]
    }
   ],
   "source": [
    "merged_df['Is Weekend'] = merged_df['Day of Week'].apply(lambda x: 1 if x in [5, 6] else 0)"
   ]
  }
 ],
 "metadata": {
  "kernelspec": {
   "display_name": "Lenv",
   "language": "python",
   "name": "python3"
  },
  "language_info": {
   "codemirror_mode": {
    "name": "ipython",
    "version": 3
   },
   "file_extension": ".py",
   "mimetype": "text/x-python",
   "name": "python",
   "nbconvert_exporter": "python",
   "pygments_lexer": "ipython3",
   "version": "3.12.3"
  }
 },
 "nbformat": 4,
 "nbformat_minor": 2
}
