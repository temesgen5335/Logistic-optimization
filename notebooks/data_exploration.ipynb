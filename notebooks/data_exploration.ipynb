{
  "cells": [
    {
      "cell_type": "markdown",
      "metadata": {
        "colab_type": "text",
        "id": "view-in-github"
      },
      "source": [
        "<a href=\"https://colab.research.google.com/github/temesgen5335/Logistic-optimization/blob/featur_engineering/data_exploration.ipynb\" target=\"_parent\"><img src=\"https://colab.research.google.com/assets/colab-badge.svg\" alt=\"Open In Colab\"/></a>"
      ]
    },
    {
      "cell_type": "markdown",
      "metadata": {
        "id": "j132DNt2vCKT"
      },
      "source": [
        "## The Data for this exploration\n"
      ]
    },
    {
      "cell_type": "markdown",
      "metadata": {
        "id": "-f0-1OOYwT8y"
      },
      "source": []
    },
    {
      "cell_type": "markdown",
      "metadata": {
        "id": "4xDWn0j-wUnr"
      },
      "source": [
        "There are two datasets available for this project.The first one is the table that contains information about the completed orders\n",
        " ####  completed orders that has the following columns      \n",
        "---  ------            --------------   -----\n",
        " 0   Trip ID                \n",
        " 1   Trip Origin         \n",
        " 2   Trip Destination  \n",
        " 3   Trip Start Time    \n",
        " 4   Trip End Time    \n",
        "\n",
        " The second one is the table that contains delivery requests by clients\n",
        " ####  Columns       \n",
        "---  ------          \n",
        " 0   id                      \n",
        " 1   order_id        \n",
        " 2   driver_id           \n",
        " 3   driver_action  \n",
        " 4   lat                    \n",
        " 5   lng                    \n",
        " 6   created_at    \n",
        " 7   updated_at   \n"
      ]
    },
    {
      "cell_type": "markdown",
      "metadata": {
        "id": "6kLjEaRWwYmr"
      },
      "source": [
        "## Prerequisites"
      ]
    },
    {
      "cell_type": "code",
      "execution_count": 135,
      "metadata": {
        "collapsed": true,
        "id": "LIKO1TZeY_xP"
      },
      "outputs": [
        {
          "data": {
            "text/plain": [
              "\"import datashader as ds, pandas as pd, colorcet\\nimport datashader.transfer_functions as tf\\n\\nimport holoviews as hv, pandas as pd, colorcet as cc\\nfrom holoviews.element.tiles import EsriImagery\\nfrom holoviews.operation.datashader import datashade\\nhv.extension('bokeh')\""
            ]
          },
          "execution_count": 135,
          "metadata": {},
          "output_type": "execute_result"
        }
      ],
      "source": [
        "'''import datashader as ds, pandas as pd, colorcet\n",
        "import datashader.transfer_functions as tf\n",
        "\n",
        "import holoviews as hv, pandas as pd, colorcet as cc\n",
        "from holoviews.element.tiles import EsriImagery\n",
        "from holoviews.operation.datashader import datashade\n",
        "hv.extension('bokeh')'''"
      ]
    },
    {
      "cell_type": "code",
      "execution_count": 136,
      "metadata": {
        "colab": {
          "base_uri": "https://localhost:8080/"
        },
        "collapsed": true,
        "id": "Csw-3rrqXJ0e",
        "outputId": "05af8d8c-c5a4-420c-f573-1618ca68c8e7"
      },
      "outputs": [
        {
          "data": {
            "text/plain": [
              "\"from google.colab import drive\\ndrive.mount('/content/drive')\\n\""
            ]
          },
          "execution_count": 136,
          "metadata": {},
          "output_type": "execute_result"
        }
      ],
      "source": [
        "'''from google.colab import drive\n",
        "drive.mount('/content/drive')\n",
        "'''"
      ]
    },
    {
      "cell_type": "markdown",
      "metadata": {
        "id": "4zF8g67XiJSe"
      },
      "source": [
        "## Loading Data"
      ]
    },
    {
      "cell_type": "code",
      "execution_count": 21,
      "metadata": {
        "colab": {
          "base_uri": "https://localhost:8080/",
          "height": 35
        },
        "id": "EwM5F3b9pvMI",
        "outputId": "e881df98-027f-4216-98c2-a7b20da1f7fa"
      },
      "outputs": [
        {
          "data": {
            "text/plain": [
              "'/home/tema/10X/Week8/Logistic optimization/data'"
            ]
          },
          "execution_count": 21,
          "metadata": {},
          "output_type": "execute_result"
        }
      ],
      "source": [
        "\n",
        "import pandas as pd\n",
        "import os\n",
        "#os.listdir('/content/drive/My Drive')\n",
        "\n",
        "os.chdir(\"/home/tema/10X/Week8/Logistic optimization/data\")\n",
        "\n",
        "os.getcwd()\n"
      ]
    },
    {
      "cell_type": "code",
      "execution_count": 22,
      "metadata": {
        "id": "qh28JUtGp32B"
      },
      "outputs": [],
      "source": [
        "delivery_orders_raw = pd.read_csv('driver_locations_during_request.csv')\n",
        "completed_orders_raw = pd.read_csv('nb.csv')"
      ]
    },
    {
      "cell_type": "markdown",
      "metadata": {
        "id": "8vq9wiADiP5W"
      },
      "source": [
        "### driver location during requests"
      ]
    },
    {
      "cell_type": "code",
      "execution_count": 23,
      "metadata": {
        "colab": {
          "base_uri": "https://localhost:8080/",
          "height": 424
        },
        "collapsed": true,
        "id": "G1CYpCiUZAKo",
        "outputId": "a8b23091-263d-49c4-b543-44dea65724b7"
      },
      "outputs": [
        {
          "data": {
            "text/html": [
              "<div>\n",
              "<style scoped>\n",
              "    .dataframe tbody tr th:only-of-type {\n",
              "        vertical-align: middle;\n",
              "    }\n",
              "\n",
              "    .dataframe tbody tr th {\n",
              "        vertical-align: top;\n",
              "    }\n",
              "\n",
              "    .dataframe thead th {\n",
              "        text-align: right;\n",
              "    }\n",
              "</style>\n",
              "<table border=\"1\" class=\"dataframe\">\n",
              "  <thead>\n",
              "    <tr style=\"text-align: right;\">\n",
              "      <th></th>\n",
              "      <th>id</th>\n",
              "      <th>order_id</th>\n",
              "      <th>driver_id</th>\n",
              "      <th>driver_action</th>\n",
              "      <th>lat</th>\n",
              "      <th>lng</th>\n",
              "      <th>created_at</th>\n",
              "      <th>updated_at</th>\n",
              "    </tr>\n",
              "  </thead>\n",
              "  <tbody>\n",
              "    <tr>\n",
              "      <th>0</th>\n",
              "      <td>1</td>\n",
              "      <td>392001</td>\n",
              "      <td>243828</td>\n",
              "      <td>accepted</td>\n",
              "      <td>6.602207</td>\n",
              "      <td>3.270465</td>\n",
              "      <td>NaN</td>\n",
              "      <td>NaN</td>\n",
              "    </tr>\n",
              "    <tr>\n",
              "      <th>1</th>\n",
              "      <td>2</td>\n",
              "      <td>392001</td>\n",
              "      <td>243588</td>\n",
              "      <td>rejected</td>\n",
              "      <td>6.592097</td>\n",
              "      <td>3.287445</td>\n",
              "      <td>NaN</td>\n",
              "      <td>NaN</td>\n",
              "    </tr>\n",
              "    <tr>\n",
              "      <th>2</th>\n",
              "      <td>3</td>\n",
              "      <td>392001</td>\n",
              "      <td>243830</td>\n",
              "      <td>rejected</td>\n",
              "      <td>6.596133</td>\n",
              "      <td>3.281784</td>\n",
              "      <td>NaN</td>\n",
              "      <td>NaN</td>\n",
              "    </tr>\n",
              "    <tr>\n",
              "      <th>3</th>\n",
              "      <td>4</td>\n",
              "      <td>392001</td>\n",
              "      <td>243539</td>\n",
              "      <td>rejected</td>\n",
              "      <td>6.596142</td>\n",
              "      <td>3.280526</td>\n",
              "      <td>NaN</td>\n",
              "      <td>NaN</td>\n",
              "    </tr>\n",
              "    <tr>\n",
              "      <th>4</th>\n",
              "      <td>5</td>\n",
              "      <td>392001</td>\n",
              "      <td>171653</td>\n",
              "      <td>rejected</td>\n",
              "      <td>6.609232</td>\n",
              "      <td>3.288800</td>\n",
              "      <td>NaN</td>\n",
              "      <td>NaN</td>\n",
              "    </tr>\n",
              "    <tr>\n",
              "      <th>...</th>\n",
              "      <td>...</td>\n",
              "      <td>...</td>\n",
              "      <td>...</td>\n",
              "      <td>...</td>\n",
              "      <td>...</td>\n",
              "      <td>...</td>\n",
              "      <td>...</td>\n",
              "      <td>...</td>\n",
              "    </tr>\n",
              "    <tr>\n",
              "      <th>1557735</th>\n",
              "      <td>1557736</td>\n",
              "      <td>517948</td>\n",
              "      <td>243774</td>\n",
              "      <td>rejected</td>\n",
              "      <td>6.469036</td>\n",
              "      <td>3.566877</td>\n",
              "      <td>NaN</td>\n",
              "      <td>NaN</td>\n",
              "    </tr>\n",
              "    <tr>\n",
              "      <th>1557736</th>\n",
              "      <td>1557737</td>\n",
              "      <td>517948</td>\n",
              "      <td>245447</td>\n",
              "      <td>rejected</td>\n",
              "      <td>6.425431</td>\n",
              "      <td>3.527358</td>\n",
              "      <td>NaN</td>\n",
              "      <td>NaN</td>\n",
              "    </tr>\n",
              "    <tr>\n",
              "      <th>1557737</th>\n",
              "      <td>1557738</td>\n",
              "      <td>517948</td>\n",
              "      <td>239866</td>\n",
              "      <td>rejected</td>\n",
              "      <td>6.440013</td>\n",
              "      <td>3.525378</td>\n",
              "      <td>NaN</td>\n",
              "      <td>NaN</td>\n",
              "    </tr>\n",
              "    <tr>\n",
              "      <th>1557738</th>\n",
              "      <td>1557739</td>\n",
              "      <td>517948</td>\n",
              "      <td>243774</td>\n",
              "      <td>rejected</td>\n",
              "      <td>6.469036</td>\n",
              "      <td>3.566877</td>\n",
              "      <td>NaN</td>\n",
              "      <td>NaN</td>\n",
              "    </tr>\n",
              "    <tr>\n",
              "      <th>1557739</th>\n",
              "      <td>1557740</td>\n",
              "      <td>517948</td>\n",
              "      <td>244170</td>\n",
              "      <td>rejected</td>\n",
              "      <td>6.469390</td>\n",
              "      <td>3.572079</td>\n",
              "      <td>NaN</td>\n",
              "      <td>NaN</td>\n",
              "    </tr>\n",
              "  </tbody>\n",
              "</table>\n",
              "<p>1557740 rows × 8 columns</p>\n",
              "</div>"
            ],
            "text/plain": [
              "              id  order_id  driver_id driver_action       lat       lng  \\\n",
              "0              1    392001     243828      accepted  6.602207  3.270465   \n",
              "1              2    392001     243588      rejected  6.592097  3.287445   \n",
              "2              3    392001     243830      rejected  6.596133  3.281784   \n",
              "3              4    392001     243539      rejected  6.596142  3.280526   \n",
              "4              5    392001     171653      rejected  6.609232  3.288800   \n",
              "...          ...       ...        ...           ...       ...       ...   \n",
              "1557735  1557736    517948     243774      rejected  6.469036  3.566877   \n",
              "1557736  1557737    517948     245447      rejected  6.425431  3.527358   \n",
              "1557737  1557738    517948     239866      rejected  6.440013  3.525378   \n",
              "1557738  1557739    517948     243774      rejected  6.469036  3.566877   \n",
              "1557739  1557740    517948     244170      rejected  6.469390  3.572079   \n",
              "\n",
              "         created_at  updated_at  \n",
              "0               NaN         NaN  \n",
              "1               NaN         NaN  \n",
              "2               NaN         NaN  \n",
              "3               NaN         NaN  \n",
              "4               NaN         NaN  \n",
              "...             ...         ...  \n",
              "1557735         NaN         NaN  \n",
              "1557736         NaN         NaN  \n",
              "1557737         NaN         NaN  \n",
              "1557738         NaN         NaN  \n",
              "1557739         NaN         NaN  \n",
              "\n",
              "[1557740 rows x 8 columns]"
            ]
          },
          "execution_count": 23,
          "metadata": {},
          "output_type": "execute_result"
        }
      ],
      "source": [
        "delivery_orders_raw\n"
      ]
    },
    {
      "cell_type": "code",
      "execution_count": 24,
      "metadata": {
        "colab": {
          "base_uri": "https://localhost:8080/"
        },
        "id": "CoMDldP3o5o2",
        "outputId": "5d15fa41-f092-4432-9b52-1ccda7ab86fe"
      },
      "outputs": [
        {
          "name": "stdout",
          "output_type": "stream",
          "text": [
            "<class 'pandas.core.frame.DataFrame'>\n",
            "RangeIndex: 1557740 entries, 0 to 1557739\n",
            "Data columns (total 8 columns):\n",
            " #   Column         Non-Null Count    Dtype  \n",
            "---  ------         --------------    -----  \n",
            " 0   id             1557740 non-null  int64  \n",
            " 1   order_id       1557740 non-null  int64  \n",
            " 2   driver_id      1557740 non-null  int64  \n",
            " 3   driver_action  1557740 non-null  object \n",
            " 4   lat            1557740 non-null  float64\n",
            " 5   lng            1557740 non-null  float64\n",
            " 6   created_at     0 non-null        float64\n",
            " 7   updated_at     0 non-null        float64\n",
            "dtypes: float64(4), int64(3), object(1)\n",
            "memory usage: 95.1+ MB\n"
          ]
        }
      ],
      "source": [
        "delivery_orders_raw.info()"
      ]
    },
    {
      "cell_type": "markdown",
      "metadata": {
        "id": "puB9ZCO9igA-"
      },
      "source": [
        "### Trip data"
      ]
    },
    {
      "cell_type": "code",
      "execution_count": 25,
      "metadata": {
        "colab": {
          "base_uri": "https://localhost:8080/"
        },
        "id": "PkUxs2GtbZF7",
        "outputId": "8cdd2dea-2edc-40e5-f986-b3743e220e3d"
      },
      "outputs": [
        {
          "name": "stdout",
          "output_type": "stream",
          "text": [
            "<class 'pandas.core.frame.DataFrame'>\n",
            "RangeIndex: 536020 entries, 0 to 536019\n",
            "Data columns (total 5 columns):\n",
            " #   Column            Non-Null Count   Dtype \n",
            "---  ------            --------------   ----- \n",
            " 0   Trip ID           536020 non-null  int64 \n",
            " 1   Trip Origin       536020 non-null  object\n",
            " 2   Trip Destination  536020 non-null  object\n",
            " 3   Trip Start Time   534369 non-null  object\n",
            " 4   Trip End Time     536019 non-null  object\n",
            "dtypes: int64(1), object(4)\n",
            "memory usage: 20.4+ MB\n"
          ]
        }
      ],
      "source": [
        "completed_orders_raw.info()"
      ]
    },
    {
      "cell_type": "code",
      "execution_count": 26,
      "metadata": {
        "id": "eHUPQHK3XKBd"
      },
      "outputs": [],
      "source": [
        "# droping the unnamed value\n",
        "if 'Unnamed: 32' in delivery_orders_raw.columns:\n",
        "  delivery_orders_raw = delivery_orders_raw.drop('Unnamed: 32', axis=1)\n",
        "\n",
        "if 'Unnamed: 32' in completed_orders_raw.columns:\n",
        "  completed_orders_raw = completed_orders_raw.drop('Unnamed: 32', axis=1)\n",
        "\n",
        "\n",
        "#delivery_orders.head()\n"
      ]
    },
    {
      "cell_type": "markdown",
      "metadata": {
        "id": "DMwFlZ7W_BYM"
      },
      "source": [
        "## Data overview Info"
      ]
    },
    {
      "cell_type": "code",
      "execution_count": 143,
      "metadata": {
        "colab": {
          "base_uri": "https://localhost:8080/",
          "height": 424
        },
        "collapsed": true,
        "id": "T_jaoDdi1z8Q",
        "outputId": "a88760a5-be67-4e64-99d8-904dafdd3a7a"
      },
      "outputs": [
        {
          "data": {
            "text/html": [
              "<div>\n",
              "<style scoped>\n",
              "    .dataframe tbody tr th:only-of-type {\n",
              "        vertical-align: middle;\n",
              "    }\n",
              "\n",
              "    .dataframe tbody tr th {\n",
              "        vertical-align: top;\n",
              "    }\n",
              "\n",
              "    .dataframe thead th {\n",
              "        text-align: right;\n",
              "    }\n",
              "</style>\n",
              "<table border=\"1\" class=\"dataframe\">\n",
              "  <thead>\n",
              "    <tr style=\"text-align: right;\">\n",
              "      <th></th>\n",
              "      <th>id</th>\n",
              "      <th>order_id</th>\n",
              "      <th>driver_id</th>\n",
              "      <th>driver_action</th>\n",
              "      <th>lat</th>\n",
              "      <th>lng</th>\n",
              "      <th>created_at</th>\n",
              "      <th>updated_at</th>\n",
              "    </tr>\n",
              "  </thead>\n",
              "  <tbody>\n",
              "    <tr>\n",
              "      <th>0</th>\n",
              "      <td>1</td>\n",
              "      <td>392001</td>\n",
              "      <td>243828</td>\n",
              "      <td>accepted</td>\n",
              "      <td>6.602207</td>\n",
              "      <td>3.270465</td>\n",
              "      <td>NaN</td>\n",
              "      <td>NaN</td>\n",
              "    </tr>\n",
              "    <tr>\n",
              "      <th>1</th>\n",
              "      <td>2</td>\n",
              "      <td>392001</td>\n",
              "      <td>243588</td>\n",
              "      <td>rejected</td>\n",
              "      <td>6.592097</td>\n",
              "      <td>3.287445</td>\n",
              "      <td>NaN</td>\n",
              "      <td>NaN</td>\n",
              "    </tr>\n",
              "    <tr>\n",
              "      <th>2</th>\n",
              "      <td>3</td>\n",
              "      <td>392001</td>\n",
              "      <td>243830</td>\n",
              "      <td>rejected</td>\n",
              "      <td>6.596133</td>\n",
              "      <td>3.281784</td>\n",
              "      <td>NaN</td>\n",
              "      <td>NaN</td>\n",
              "    </tr>\n",
              "    <tr>\n",
              "      <th>3</th>\n",
              "      <td>4</td>\n",
              "      <td>392001</td>\n",
              "      <td>243539</td>\n",
              "      <td>rejected</td>\n",
              "      <td>6.596142</td>\n",
              "      <td>3.280526</td>\n",
              "      <td>NaN</td>\n",
              "      <td>NaN</td>\n",
              "    </tr>\n",
              "    <tr>\n",
              "      <th>4</th>\n",
              "      <td>5</td>\n",
              "      <td>392001</td>\n",
              "      <td>171653</td>\n",
              "      <td>rejected</td>\n",
              "      <td>6.609232</td>\n",
              "      <td>3.288800</td>\n",
              "      <td>NaN</td>\n",
              "      <td>NaN</td>\n",
              "    </tr>\n",
              "    <tr>\n",
              "      <th>...</th>\n",
              "      <td>...</td>\n",
              "      <td>...</td>\n",
              "      <td>...</td>\n",
              "      <td>...</td>\n",
              "      <td>...</td>\n",
              "      <td>...</td>\n",
              "      <td>...</td>\n",
              "      <td>...</td>\n",
              "    </tr>\n",
              "    <tr>\n",
              "      <th>1557735</th>\n",
              "      <td>1557736</td>\n",
              "      <td>517948</td>\n",
              "      <td>243774</td>\n",
              "      <td>rejected</td>\n",
              "      <td>6.469036</td>\n",
              "      <td>3.566877</td>\n",
              "      <td>NaN</td>\n",
              "      <td>NaN</td>\n",
              "    </tr>\n",
              "    <tr>\n",
              "      <th>1557736</th>\n",
              "      <td>1557737</td>\n",
              "      <td>517948</td>\n",
              "      <td>245447</td>\n",
              "      <td>rejected</td>\n",
              "      <td>6.425431</td>\n",
              "      <td>3.527358</td>\n",
              "      <td>NaN</td>\n",
              "      <td>NaN</td>\n",
              "    </tr>\n",
              "    <tr>\n",
              "      <th>1557737</th>\n",
              "      <td>1557738</td>\n",
              "      <td>517948</td>\n",
              "      <td>239866</td>\n",
              "      <td>rejected</td>\n",
              "      <td>6.440013</td>\n",
              "      <td>3.525378</td>\n",
              "      <td>NaN</td>\n",
              "      <td>NaN</td>\n",
              "    </tr>\n",
              "    <tr>\n",
              "      <th>1557738</th>\n",
              "      <td>1557739</td>\n",
              "      <td>517948</td>\n",
              "      <td>243774</td>\n",
              "      <td>rejected</td>\n",
              "      <td>6.469036</td>\n",
              "      <td>3.566877</td>\n",
              "      <td>NaN</td>\n",
              "      <td>NaN</td>\n",
              "    </tr>\n",
              "    <tr>\n",
              "      <th>1557739</th>\n",
              "      <td>1557740</td>\n",
              "      <td>517948</td>\n",
              "      <td>244170</td>\n",
              "      <td>rejected</td>\n",
              "      <td>6.469390</td>\n",
              "      <td>3.572079</td>\n",
              "      <td>NaN</td>\n",
              "      <td>NaN</td>\n",
              "    </tr>\n",
              "  </tbody>\n",
              "</table>\n",
              "<p>1557740 rows × 8 columns</p>\n",
              "</div>"
            ],
            "text/plain": [
              "              id  order_id  driver_id driver_action       lat       lng  \\\n",
              "0              1    392001     243828      accepted  6.602207  3.270465   \n",
              "1              2    392001     243588      rejected  6.592097  3.287445   \n",
              "2              3    392001     243830      rejected  6.596133  3.281784   \n",
              "3              4    392001     243539      rejected  6.596142  3.280526   \n",
              "4              5    392001     171653      rejected  6.609232  3.288800   \n",
              "...          ...       ...        ...           ...       ...       ...   \n",
              "1557735  1557736    517948     243774      rejected  6.469036  3.566877   \n",
              "1557736  1557737    517948     245447      rejected  6.425431  3.527358   \n",
              "1557737  1557738    517948     239866      rejected  6.440013  3.525378   \n",
              "1557738  1557739    517948     243774      rejected  6.469036  3.566877   \n",
              "1557739  1557740    517948     244170      rejected  6.469390  3.572079   \n",
              "\n",
              "         created_at  updated_at  \n",
              "0               NaN         NaN  \n",
              "1               NaN         NaN  \n",
              "2               NaN         NaN  \n",
              "3               NaN         NaN  \n",
              "4               NaN         NaN  \n",
              "...             ...         ...  \n",
              "1557735         NaN         NaN  \n",
              "1557736         NaN         NaN  \n",
              "1557737         NaN         NaN  \n",
              "1557738         NaN         NaN  \n",
              "1557739         NaN         NaN  \n",
              "\n",
              "[1557740 rows x 8 columns]"
            ]
          },
          "execution_count": 143,
          "metadata": {},
          "output_type": "execute_result"
        }
      ],
      "source": [
        "delivery_orders_raw"
      ]
    },
    {
      "cell_type": "code",
      "execution_count": 4,
      "metadata": {
        "colab": {
          "base_uri": "https://localhost:8080/"
        },
        "id": "jlAtx6vIpwsu",
        "outputId": "e16c6b21-f066-4fb1-889a-7ce164429073"
      },
      "outputs": [
        {
          "name": "stdout",
          "output_type": "stream",
          "text": [
            "DataFrame has null values.\n"
          ]
        }
      ],
      "source": [
        "# Check for null values in all columns\n",
        "if delivery_orders_raw.isnull().any().any():\n",
        "    print(\"DataFrame has null values.\")\n",
        "else:\n",
        "    print(\"DataFrame does not have null values.\")\n"
      ]
    },
    {
      "cell_type": "code",
      "execution_count": 5,
      "metadata": {
        "colab": {
          "base_uri": "https://localhost:8080/"
        },
        "id": "0aC0Wctmp0Et",
        "outputId": "8c6309f7-b7de-49d4-e49f-8086316a4f21"
      },
      "outputs": [
        {
          "name": "stdout",
          "output_type": "stream",
          "text": [
            "Column 'order_id' does not have null values.\n"
          ]
        }
      ],
      "source": [
        "if delivery_orders_raw['driver_action'].isnull().any():\n",
        "    print(\"Column 'driver_action' has null values.\")\n",
        "else:\n",
        "    print(\"Column 'driver_action' does not have null values.\")\n"
      ]
    },
    {
      "cell_type": "code",
      "execution_count": 146,
      "metadata": {
        "colab": {
          "base_uri": "https://localhost:8080/"
        },
        "collapsed": true,
        "id": "DW1nkhWktsij",
        "outputId": "d2b4b11b-0d51-4ddb-a115-d35fccf0733e"
      },
      "outputs": [
        {
          "name": "stdout",
          "output_type": "stream",
          "text": [
            "<class 'pandas.core.frame.DataFrame'>\n",
            "RangeIndex: 536020 entries, 0 to 536019\n",
            "Data columns (total 5 columns):\n",
            " #   Column            Non-Null Count   Dtype \n",
            "---  ------            --------------   ----- \n",
            " 0   Trip ID           536020 non-null  int64 \n",
            " 1   Trip Origin       536020 non-null  object\n",
            " 2   Trip Destination  536020 non-null  object\n",
            " 3   Trip Start Time   534369 non-null  object\n",
            " 4   Trip End Time     536019 non-null  object\n",
            "dtypes: int64(1), object(4)\n",
            "memory usage: 20.4+ MB\n"
          ]
        }
      ],
      "source": [
        "completed_orders_raw.info()\n"
      ]
    },
    {
      "cell_type": "code",
      "execution_count": 147,
      "metadata": {
        "colab": {
          "base_uri": "https://localhost:8080/"
        },
        "id": "CxGZ2WWe1NVW",
        "outputId": "f23a28cf-6929-4684-92f1-059b1a017088"
      },
      "outputs": [
        {
          "data": {
            "text/plain": [
              "98.33714227021197"
            ]
          },
          "execution_count": 147,
          "metadata": {},
          "output_type": "execute_result"
        }
      ],
      "source": [
        "# percentage of rejected orders\n",
        "delivery_orders_raw['driver_action'].describe()['freq'] * 100 /delivery_orders_raw.shape[0]"
      ]
    },
    {
      "cell_type": "code",
      "execution_count": 6,
      "metadata": {
        "colab": {
          "base_uri": "https://localhost:8080/"
        },
        "id": "8ywjwCyJ0onD",
        "outputId": "5c551ec5-71a5-4253-8715-74c4f271dd3b"
      },
      "outputs": [
        {
          "name": "stdout",
          "output_type": "stream",
          "text": [
            "Number of accepted orders: 25881\n"
          ]
        }
      ],
      "source": [
        "# Filter for rows where driver_action is 'accepted'\n",
        "accepted_orders = delivery_orders_raw[delivery_orders_raw['driver_action'] == 'accepted']\n",
        "\n",
        "# Count the number of unique order IDs\n",
        "num_accepted_orders = accepted_orders['order_id'].nunique()\n",
        "\n",
        "# Print the number of accepted orders\n",
        "print(\"Number of accepted orders:\", num_accepted_orders)\n"
      ]
    },
    {
      "cell_type": "markdown",
      "metadata": {
        "id": "bFSx0BqbMq-X"
      },
      "source": [
        "**Data overview**\n",
        "\n",
        "\n",
        "Completed Orders: Total Entries: 536,020\n",
        "\n",
        "Delivery Requests  Total Entries: 1,557,740\n",
        "\n",
        "The number of accepted orders are: 25881\n"
      ]
    },
    {
      "cell_type": "markdown",
      "metadata": {
        "id": "nNpqmm7jRzkH"
      },
      "source": [
        "**Basic Statistics**"
      ]
    },
    {
      "cell_type": "code",
      "execution_count": 150,
      "metadata": {
        "colab": {
          "base_uri": "https://localhost:8080/"
        },
        "collapsed": true,
        "id": "P7X0BuWNh7x4",
        "outputId": "d46fe4d5-1554-4f8e-f774-e86d5145f104"
      },
      "outputs": [
        {
          "name": "stdout",
          "output_type": "stream",
          "text": [
            "            Trip ID\n",
            "count  5.360200e+05\n",
            "mean   9.910221e+05\n",
            "std    3.456364e+05\n",
            "min    3.919960e+05\n",
            "25%    6.935610e+05\n",
            "50%    9.910085e+05\n",
            "75%    1.281570e+06\n",
            "max    1.637709e+06\n"
          ]
        }
      ],
      "source": [
        "print (completed_orders_raw.describe())\n"
      ]
    },
    {
      "cell_type": "code",
      "execution_count": null,
      "metadata": {
        "id": "isss130BS2A5"
      },
      "outputs": [],
      "source": []
    },
    {
      "cell_type": "markdown",
      "metadata": {
        "id": "M1OofTjySt2z"
      },
      "source": [
        "## Handling Missing values and Outliers"
      ]
    },
    {
      "cell_type": "code",
      "execution_count": 27,
      "metadata": {
        "colab": {
          "base_uri": "https://localhost:8080/"
        },
        "id": "SgSsBvNjVSTd",
        "outputId": "4a4dd85d-4bcd-4936-a18e-cb441aa89095"
      },
      "outputs": [
        {
          "name": "stdout",
          "output_type": "stream",
          "text": [
            "The number of rows that are missing are: 1652\n"
          ]
        }
      ],
      "source": [
        "# Drop rows where Trip Start Time or Trip End Time are missing\n",
        "completed_orders = completed_orders_raw.dropna(subset=['Trip Start Time', 'Trip End Time'])\n",
        "\n",
        "# Display the number of rows before and after dropping missing values\n",
        "null_values = len(completed_orders_raw)- len(completed_orders)\n",
        "\n",
        "null_values\n",
        "print ('The number of rows that are missing are:', null_values)"
      ]
    },
    {
      "cell_type": "code",
      "execution_count": 42,
      "metadata": {},
      "outputs": [
        {
          "data": {
            "text/plain": [
              "Trip ID              int64\n",
              "Trip Origin         object\n",
              "Trip Destination    object\n",
              "Trip Start Time     object\n",
              "Trip End Time       object\n",
              "dtype: object"
            ]
          },
          "execution_count": 42,
          "metadata": {},
          "output_type": "execute_result"
        }
      ],
      "source": [
        "completed_orders.dtypes"
      ]
    },
    {
      "cell_type": "code",
      "execution_count": 43,
      "metadata": {
        "colab": {
          "base_uri": "https://localhost:8080/",
          "height": 424
        },
        "collapsed": true,
        "id": "6tyCsnK3XuUE",
        "outputId": "87c85e8c-5483-4b1a-cfac-903ad655d068"
      },
      "outputs": [
        {
          "name": "stderr",
          "output_type": "stream",
          "text": [
            "/tmp/ipykernel_875844/1480066296.py:1: SettingWithCopyWarning: \n",
            "A value is trying to be set on a copy of a slice from a DataFrame.\n",
            "Try using .loc[row_indexer,col_indexer] = value instead\n",
            "\n",
            "See the caveats in the documentation: https://pandas.pydata.org/pandas-docs/stable/user_guide/indexing.html#returning-a-view-versus-a-copy\n",
            "  completed_orders['Trip Start Time'] = pd.to_datetime(completed_orders['Trip Start Time'])\n",
            "/tmp/ipykernel_875844/1480066296.py:2: SettingWithCopyWarning: \n",
            "A value is trying to be set on a copy of a slice from a DataFrame.\n",
            "Try using .loc[row_indexer,col_indexer] = value instead\n",
            "\n",
            "See the caveats in the documentation: https://pandas.pydata.org/pandas-docs/stable/user_guide/indexing.html#returning-a-view-versus-a-copy\n",
            "  completed_orders['Trip End Time'] = pd.to_datetime(completed_orders['Trip End Time'])\n"
          ]
        }
      ],
      "source": [
        "completed_orders['Trip Start Time'] = pd.to_datetime(completed_orders['Trip Start Time'])\n",
        "completed_orders['Trip End Time'] = pd.to_datetime(completed_orders['Trip End Time'])\n"
      ]
    },
    {
      "cell_type": "code",
      "execution_count": 44,
      "metadata": {
        "colab": {
          "base_uri": "https://localhost:8080/"
        },
        "id": "bdoFa3ozrr-R",
        "outputId": "548fe285-769a-4302-af83-f12479f8069d"
      },
      "outputs": [
        {
          "name": "stdout",
          "output_type": "stream",
          "text": [
            "DataFrame does not have null values.\n"
          ]
        }
      ],
      "source": [
        "# Check for null values in all columns\n",
        "if completed_orders.isnull().any().any():\n",
        "    print(\"DataFrame has null values.\")\n",
        "else:\n",
        "    print(\"DataFrame does not have null values.\")"
      ]
    },
    {
      "cell_type": "markdown",
      "metadata": {
        "id": "J6fLzdA6rRqD"
      },
      "source": [
        "### cleaning driver location  data"
      ]
    },
    {
      "cell_type": "code",
      "execution_count": 30,
      "metadata": {
        "colab": {
          "base_uri": "https://localhost:8080/"
        },
        "collapsed": true,
        "id": "FDSm_BgwohLp",
        "outputId": "053a6dff-f6ab-4a4a-e60d-31004b2d36f6"
      },
      "outputs": [
        {
          "name": "stdout",
          "output_type": "stream",
          "text": [
            "<class 'pandas.core.frame.DataFrame'>\n",
            "RangeIndex: 1557740 entries, 0 to 1557739\n",
            "Data columns (total 8 columns):\n",
            " #   Column         Non-Null Count    Dtype  \n",
            "---  ------         --------------    -----  \n",
            " 0   id             1557740 non-null  int64  \n",
            " 1   order_id       1557740 non-null  int64  \n",
            " 2   driver_id      1557740 non-null  int64  \n",
            " 3   driver_action  1557740 non-null  object \n",
            " 4   lat            1557740 non-null  float64\n",
            " 5   lng            1557740 non-null  float64\n",
            " 6   created_at     0 non-null        float64\n",
            " 7   updated_at     0 non-null        float64\n",
            "dtypes: float64(4), int64(3), object(1)\n",
            "memory usage: 95.1+ MB\n"
          ]
        }
      ],
      "source": [
        "delivery_orders = delivery_orders_raw.dropna(subset= ['driver_action'])\n",
        "delivery_orders.info()"
      ]
    },
    {
      "cell_type": "code",
      "execution_count": 31,
      "metadata": {
        "colab": {
          "base_uri": "https://localhost:8080/"
        },
        "id": "dWPwGOKKqmow",
        "outputId": "2a51479b-a42d-4567-be19-d8ae5648f257"
      },
      "outputs": [
        {
          "data": {
            "text/plain": [
              "Index(['created_at', 'updated_at'], dtype='object')"
            ]
          },
          "execution_count": 31,
          "metadata": {},
          "output_type": "execute_result"
        }
      ],
      "source": [
        "# Check for null values in each column\n",
        "null_columns = delivery_orders_raw.columns[delivery_orders_raw.isnull().any()]\n",
        "\n",
        "null_columns\n"
      ]
    },
    {
      "cell_type": "code",
      "execution_count": 32,
      "metadata": {
        "colab": {
          "base_uri": "https://localhost:8080/",
          "height": 206
        },
        "id": "9GCI6WGEq1PE",
        "outputId": "5a34a9fa-cdb7-4ea1-9ede-fcd72727b05d"
      },
      "outputs": [
        {
          "data": {
            "text/html": [
              "<div>\n",
              "<style scoped>\n",
              "    .dataframe tbody tr th:only-of-type {\n",
              "        vertical-align: middle;\n",
              "    }\n",
              "\n",
              "    .dataframe tbody tr th {\n",
              "        vertical-align: top;\n",
              "    }\n",
              "\n",
              "    .dataframe thead th {\n",
              "        text-align: right;\n",
              "    }\n",
              "</style>\n",
              "<table border=\"1\" class=\"dataframe\">\n",
              "  <thead>\n",
              "    <tr style=\"text-align: right;\">\n",
              "      <th></th>\n",
              "      <th>id</th>\n",
              "      <th>order_id</th>\n",
              "      <th>driver_id</th>\n",
              "      <th>driver_action</th>\n",
              "      <th>lat</th>\n",
              "      <th>lng</th>\n",
              "    </tr>\n",
              "  </thead>\n",
              "  <tbody>\n",
              "    <tr>\n",
              "      <th>0</th>\n",
              "      <td>1</td>\n",
              "      <td>392001</td>\n",
              "      <td>243828</td>\n",
              "      <td>accepted</td>\n",
              "      <td>6.602207</td>\n",
              "      <td>3.270465</td>\n",
              "    </tr>\n",
              "    <tr>\n",
              "      <th>1</th>\n",
              "      <td>2</td>\n",
              "      <td>392001</td>\n",
              "      <td>243588</td>\n",
              "      <td>rejected</td>\n",
              "      <td>6.592097</td>\n",
              "      <td>3.287445</td>\n",
              "    </tr>\n",
              "    <tr>\n",
              "      <th>2</th>\n",
              "      <td>3</td>\n",
              "      <td>392001</td>\n",
              "      <td>243830</td>\n",
              "      <td>rejected</td>\n",
              "      <td>6.596133</td>\n",
              "      <td>3.281784</td>\n",
              "    </tr>\n",
              "    <tr>\n",
              "      <th>3</th>\n",
              "      <td>4</td>\n",
              "      <td>392001</td>\n",
              "      <td>243539</td>\n",
              "      <td>rejected</td>\n",
              "      <td>6.596142</td>\n",
              "      <td>3.280526</td>\n",
              "    </tr>\n",
              "    <tr>\n",
              "      <th>4</th>\n",
              "      <td>5</td>\n",
              "      <td>392001</td>\n",
              "      <td>171653</td>\n",
              "      <td>rejected</td>\n",
              "      <td>6.609232</td>\n",
              "      <td>3.288800</td>\n",
              "    </tr>\n",
              "  </tbody>\n",
              "</table>\n",
              "</div>"
            ],
            "text/plain": [
              "   id  order_id  driver_id driver_action       lat       lng\n",
              "0   1    392001     243828      accepted  6.602207  3.270465\n",
              "1   2    392001     243588      rejected  6.592097  3.287445\n",
              "2   3    392001     243830      rejected  6.596133  3.281784\n",
              "3   4    392001     243539      rejected  6.596142  3.280526\n",
              "4   5    392001     171653      rejected  6.609232  3.288800"
            ]
          },
          "execution_count": 32,
          "metadata": {},
          "output_type": "execute_result"
        }
      ],
      "source": [
        "# Drop columns with null values\n",
        "delivery_orders = delivery_orders_raw.drop(null_columns, axis=1)\n",
        "\n",
        "# Print the DataFrame after dropping columns\n",
        "delivery_orders.head()"
      ]
    },
    {
      "cell_type": "code",
      "execution_count": 37,
      "metadata": {
        "id": "Ld6khk4Z0_Lm"
      },
      "outputs": [
        {
          "ename": "AttributeError",
          "evalue": "'str' object has no attribute 'to_pydatetime'",
          "output_type": "error",
          "traceback": [
            "\u001b[0;31m---------------------------------------------------------------------------\u001b[0m",
            "\u001b[0;31mAttributeError\u001b[0m                            Traceback (most recent call last)",
            "Cell \u001b[0;32mIn[37], line 2\u001b[0m\n\u001b[1;32m      1\u001b[0m \u001b[38;5;66;03m# Define time range for the data\u001b[39;00m\n\u001b[0;32m----> 2\u001b[0m start_date \u001b[38;5;241m=\u001b[39m \u001b[43mcompleted_orders\u001b[49m\u001b[43m[\u001b[49m\u001b[38;5;124;43m'\u001b[39;49m\u001b[38;5;124;43mTrip Start Time\u001b[39;49m\u001b[38;5;124;43m'\u001b[39;49m\u001b[43m]\u001b[49m\u001b[38;5;241;43m.\u001b[39;49m\u001b[43mmin\u001b[49m\u001b[43m(\u001b[49m\u001b[43m)\u001b[49m\u001b[38;5;241;43m.\u001b[39;49m\u001b[43mto_pydatetime\u001b[49m()\n\u001b[1;32m      3\u001b[0m \u001b[38;5;66;03m# decrease one day from the start date\u001b[39;00m\n\u001b[1;32m      4\u001b[0m start_date \u001b[38;5;241m=\u001b[39m start_date \u001b[38;5;241m-\u001b[39m pd\u001b[38;5;241m.\u001b[39mTimedelta(days\u001b[38;5;241m=\u001b[39m\u001b[38;5;241m1\u001b[39m)\n",
            "\u001b[0;31mAttributeError\u001b[0m: 'str' object has no attribute 'to_pydatetime'"
          ]
        }
      ],
      "source": [
        "# Define time range for the data\n",
        "start_date = completed_orders['Trip Start Time'].min().to_pydatetime()\n",
        "# decrease one day from the start date\n",
        "start_date = start_date - pd.Timedelta(days=1)\n",
        "end_date = completed_orders['Trip Start Time'].max().to_pydatetime()"
      ]
    },
    {
      "cell_type": "code",
      "execution_count": null,
      "metadata": {},
      "outputs": [],
      "source": []
    },
    {
      "cell_type": "markdown",
      "metadata": {
        "id": "9L8vwgu7n2Id"
      },
      "source": [
        "# Exploring the datas"
      ]
    },
    {
      "cell_type": "code",
      "execution_count": 33,
      "metadata": {},
      "outputs": [],
      "source": [
        "import pandas as pd\n",
        "import numpy as np\n",
        "from geopy.distance import geodesic\n",
        "import haversine as hs\n",
        "from datetime import datetime"
      ]
    },
    {
      "cell_type": "markdown",
      "metadata": {
        "id": "O_V_UU89v2Vq"
      },
      "source": [
        "### Compute distances and speeds for completed orders"
      ]
    },
    {
      "cell_type": "code",
      "execution_count": 185,
      "metadata": {
        "colab": {
          "base_uri": "https://localhost:8080/",
          "height": 424
        },
        "id": "e1i48YQ8n-oe",
        "outputId": "59929a85-73ef-4544-b03e-f551b5b9cc36"
      },
      "outputs": [
        {
          "data": {
            "text/html": [
              "<div>\n",
              "<style scoped>\n",
              "    .dataframe tbody tr th:only-of-type {\n",
              "        vertical-align: middle;\n",
              "    }\n",
              "\n",
              "    .dataframe tbody tr th {\n",
              "        vertical-align: top;\n",
              "    }\n",
              "\n",
              "    .dataframe thead th {\n",
              "        text-align: right;\n",
              "    }\n",
              "</style>\n",
              "<table border=\"1\" class=\"dataframe\">\n",
              "  <thead>\n",
              "    <tr style=\"text-align: right;\">\n",
              "      <th></th>\n",
              "      <th>Trip ID</th>\n",
              "      <th>Trip Origin</th>\n",
              "      <th>Trip Destination</th>\n",
              "      <th>Trip Start Time</th>\n",
              "      <th>Trip End Time</th>\n",
              "      <th>Trip Duration</th>\n",
              "      <th>Origin Latitude</th>\n",
              "      <th>Origin Longitude</th>\n",
              "      <th>Destination Latitude</th>\n",
              "      <th>Destination Longitude</th>\n",
              "      <th>Geodesic Distance (m)</th>\n",
              "    </tr>\n",
              "  </thead>\n",
              "  <tbody>\n",
              "    <tr>\n",
              "      <th>0</th>\n",
              "      <td>391996</td>\n",
              "      <td>6.508813001668548,3.37740316890347</td>\n",
              "      <td>6.650969799999999,3.3450307</td>\n",
              "      <td>2021-07-01 07:28:04</td>\n",
              "      <td>2021-07-01 07:29:37</td>\n",
              "      <td>1.550000</td>\n",
              "      <td>6.508813</td>\n",
              "      <td>3.377403</td>\n",
              "      <td>6.650970</td>\n",
              "      <td>3.345031</td>\n",
              "      <td>16123.451077</td>\n",
              "    </tr>\n",
              "    <tr>\n",
              "      <th>1</th>\n",
              "      <td>391997</td>\n",
              "      <td>6.4316714,3.4555375</td>\n",
              "      <td>6.4280814653326,3.4721885847586</td>\n",
              "      <td>2021-07-01 06:38:04</td>\n",
              "      <td>2021-07-01 07:07:28</td>\n",
              "      <td>29.400000</td>\n",
              "      <td>6.431671</td>\n",
              "      <td>3.455538</td>\n",
              "      <td>6.428081</td>\n",
              "      <td>3.472189</td>\n",
              "      <td>1884.305061</td>\n",
              "    </tr>\n",
              "    <tr>\n",
              "      <th>2</th>\n",
              "      <td>391998</td>\n",
              "      <td>6.631679399999999,3.3388976</td>\n",
              "      <td>6.508324099999999,3.3590397</td>\n",
              "      <td>2021-07-01 06:21:02</td>\n",
              "      <td>2021-07-01 07:02:23</td>\n",
              "      <td>41.350000</td>\n",
              "      <td>6.631679</td>\n",
              "      <td>3.338898</td>\n",
              "      <td>6.508324</td>\n",
              "      <td>3.359040</td>\n",
              "      <td>13822.392617</td>\n",
              "    </tr>\n",
              "    <tr>\n",
              "      <th>3</th>\n",
              "      <td>391999</td>\n",
              "      <td>6.572757200000001,3.3677082</td>\n",
              "      <td>6.584881099999999,3.3614073</td>\n",
              "      <td>2021-07-01 07:16:07</td>\n",
              "      <td>2021-07-01 07:29:42</td>\n",
              "      <td>13.583333</td>\n",
              "      <td>6.572757</td>\n",
              "      <td>3.367708</td>\n",
              "      <td>6.584881</td>\n",
              "      <td>3.361407</td>\n",
              "      <td>1511.034180</td>\n",
              "    </tr>\n",
              "    <tr>\n",
              "      <th>4</th>\n",
              "      <td>392001</td>\n",
              "      <td>6.6010417,3.2766339</td>\n",
              "      <td>6.4501069,3.3916154</td>\n",
              "      <td>2021-07-01 09:30:59</td>\n",
              "      <td>2021-07-01 09:34:36</td>\n",
              "      <td>3.616667</td>\n",
              "      <td>6.601042</td>\n",
              "      <td>3.276634</td>\n",
              "      <td>6.450107</td>\n",
              "      <td>3.391615</td>\n",
              "      <td>20984.319062</td>\n",
              "    </tr>\n",
              "    <tr>\n",
              "      <th>...</th>\n",
              "      <td>...</td>\n",
              "      <td>...</td>\n",
              "      <td>...</td>\n",
              "      <td>...</td>\n",
              "      <td>...</td>\n",
              "      <td>...</td>\n",
              "      <td>...</td>\n",
              "      <td>...</td>\n",
              "      <td>...</td>\n",
              "      <td>...</td>\n",
              "      <td>...</td>\n",
              "    </tr>\n",
              "    <tr>\n",
              "      <th>536015</th>\n",
              "      <td>1637696</td>\n",
              "      <td>6.448218499999999,3.4772075</td>\n",
              "      <td>6.437787399999999,3.481670199999999</td>\n",
              "      <td>2021-12-30 20:35:06</td>\n",
              "      <td>2021-12-30 21:02:59</td>\n",
              "      <td>27.883333</td>\n",
              "      <td>6.448218</td>\n",
              "      <td>3.477208</td>\n",
              "      <td>6.437787</td>\n",
              "      <td>3.481670</td>\n",
              "      <td>1254.752111</td>\n",
              "    </tr>\n",
              "    <tr>\n",
              "      <th>536016</th>\n",
              "      <td>1637702</td>\n",
              "      <td>6.442320899999999,3.4736868</td>\n",
              "      <td>6.436589333407897,3.5559738188407835</td>\n",
              "      <td>2021-12-30 20:48:13</td>\n",
              "      <td>2021-12-30 21:43:49</td>\n",
              "      <td>55.600000</td>\n",
              "      <td>6.442321</td>\n",
              "      <td>3.473687</td>\n",
              "      <td>6.436589</td>\n",
              "      <td>3.555974</td>\n",
              "      <td>9124.781484</td>\n",
              "    </tr>\n",
              "    <tr>\n",
              "      <th>536017</th>\n",
              "      <td>1637704</td>\n",
              "      <td>6.4281982,3.492248</td>\n",
              "      <td>6.448088500000001,3.4775747</td>\n",
              "      <td>2021-12-30 20:51:45</td>\n",
              "      <td>2021-12-30 21:41:32</td>\n",
              "      <td>49.783333</td>\n",
              "      <td>6.428198</td>\n",
              "      <td>3.492248</td>\n",
              "      <td>6.448089</td>\n",
              "      <td>3.477575</td>\n",
              "      <td>2733.703826</td>\n",
              "    </tr>\n",
              "    <tr>\n",
              "      <th>536018</th>\n",
              "      <td>1637705</td>\n",
              "      <td>6.5869296,3.3632966</td>\n",
              "      <td>6.637906899999999,3.3339515</td>\n",
              "      <td>2021-12-30 20:48:50</td>\n",
              "      <td>2021-12-30 21:08:28</td>\n",
              "      <td>19.633333</td>\n",
              "      <td>6.586930</td>\n",
              "      <td>3.363297</td>\n",
              "      <td>6.637907</td>\n",
              "      <td>3.333951</td>\n",
              "      <td>6504.795998</td>\n",
              "    </tr>\n",
              "    <tr>\n",
              "      <th>536019</th>\n",
              "      <td>1637709</td>\n",
              "      <td>6.647209999999999,3.4851489</td>\n",
              "      <td>6.454915198823159,3.555839938365194</td>\n",
              "      <td>2021-12-30 20:55:38</td>\n",
              "      <td>2021-12-30 22:25:00</td>\n",
              "      <td>89.366667</td>\n",
              "      <td>6.647210</td>\n",
              "      <td>3.485149</td>\n",
              "      <td>6.454915</td>\n",
              "      <td>3.555840</td>\n",
              "      <td>22657.279603</td>\n",
              "    </tr>\n",
              "  </tbody>\n",
              "</table>\n",
              "<p>534368 rows × 11 columns</p>\n",
              "</div>"
            ],
            "text/plain": [
              "        Trip ID                         Trip Origin  \\\n",
              "0        391996  6.508813001668548,3.37740316890347   \n",
              "1        391997                 6.4316714,3.4555375   \n",
              "2        391998         6.631679399999999,3.3388976   \n",
              "3        391999         6.572757200000001,3.3677082   \n",
              "4        392001                 6.6010417,3.2766339   \n",
              "...         ...                                 ...   \n",
              "536015  1637696         6.448218499999999,3.4772075   \n",
              "536016  1637702         6.442320899999999,3.4736868   \n",
              "536017  1637704                  6.4281982,3.492248   \n",
              "536018  1637705                 6.5869296,3.3632966   \n",
              "536019  1637709         6.647209999999999,3.4851489   \n",
              "\n",
              "                            Trip Destination     Trip Start Time  \\\n",
              "0                6.650969799999999,3.3450307 2021-07-01 07:28:04   \n",
              "1            6.4280814653326,3.4721885847586 2021-07-01 06:38:04   \n",
              "2                6.508324099999999,3.3590397 2021-07-01 06:21:02   \n",
              "3                6.584881099999999,3.3614073 2021-07-01 07:16:07   \n",
              "4                        6.4501069,3.3916154 2021-07-01 09:30:59   \n",
              "...                                      ...                 ...   \n",
              "536015   6.437787399999999,3.481670199999999 2021-12-30 20:35:06   \n",
              "536016  6.436589333407897,3.5559738188407835 2021-12-30 20:48:13   \n",
              "536017           6.448088500000001,3.4775747 2021-12-30 20:51:45   \n",
              "536018           6.637906899999999,3.3339515 2021-12-30 20:48:50   \n",
              "536019   6.454915198823159,3.555839938365194 2021-12-30 20:55:38   \n",
              "\n",
              "             Trip End Time  Trip Duration  Origin Latitude  Origin Longitude  \\\n",
              "0      2021-07-01 07:29:37       1.550000         6.508813          3.377403   \n",
              "1      2021-07-01 07:07:28      29.400000         6.431671          3.455538   \n",
              "2      2021-07-01 07:02:23      41.350000         6.631679          3.338898   \n",
              "3      2021-07-01 07:29:42      13.583333         6.572757          3.367708   \n",
              "4      2021-07-01 09:34:36       3.616667         6.601042          3.276634   \n",
              "...                    ...            ...              ...               ...   \n",
              "536015 2021-12-30 21:02:59      27.883333         6.448218          3.477208   \n",
              "536016 2021-12-30 21:43:49      55.600000         6.442321          3.473687   \n",
              "536017 2021-12-30 21:41:32      49.783333         6.428198          3.492248   \n",
              "536018 2021-12-30 21:08:28      19.633333         6.586930          3.363297   \n",
              "536019 2021-12-30 22:25:00      89.366667         6.647210          3.485149   \n",
              "\n",
              "        Destination Latitude  Destination Longitude  Geodesic Distance (m)  \n",
              "0                   6.650970               3.345031           16123.451077  \n",
              "1                   6.428081               3.472189            1884.305061  \n",
              "2                   6.508324               3.359040           13822.392617  \n",
              "3                   6.584881               3.361407            1511.034180  \n",
              "4                   6.450107               3.391615           20984.319062  \n",
              "...                      ...                    ...                    ...  \n",
              "536015              6.437787               3.481670            1254.752111  \n",
              "536016              6.436589               3.555974            9124.781484  \n",
              "536017              6.448089               3.477575            2733.703826  \n",
              "536018              6.637907               3.333951            6504.795998  \n",
              "536019              6.454915               3.555840           22657.279603  \n",
              "\n",
              "[534368 rows x 11 columns]"
            ]
          },
          "execution_count": 185,
          "metadata": {},
          "output_type": "execute_result"
        }
      ],
      "source": [
        "completed_orders"
      ]
    },
    {
      "cell_type": "code",
      "execution_count": 18,
      "metadata": {
        "colab": {
          "base_uri": "https://localhost:8080/",
          "height": 424
        },
        "collapsed": true,
        "id": "YCvRFwo7XKKM",
        "outputId": "ae2fb5bc-9433-4e18-a46a-ed022a3ae836"
      },
      "outputs": [
        {
          "name": "stderr",
          "output_type": "stream",
          "text": [
            "/tmp/ipykernel_875844/2293525678.py:4: SettingWithCopyWarning: \n",
            "A value is trying to be set on a copy of a slice from a DataFrame.\n",
            "Try using .loc[row_indexer,col_indexer] = value instead\n",
            "\n",
            "See the caveats in the documentation: https://pandas.pydata.org/pandas-docs/stable/user_guide/indexing.html#returning-a-view-versus-a-copy\n",
            "  completed_orders['Trip Start Time'] = pd.to_datetime(completed_orders['Trip Start Time'])\n",
            "/tmp/ipykernel_875844/2293525678.py:5: SettingWithCopyWarning: \n",
            "A value is trying to be set on a copy of a slice from a DataFrame.\n",
            "Try using .loc[row_indexer,col_indexer] = value instead\n",
            "\n",
            "See the caveats in the documentation: https://pandas.pydata.org/pandas-docs/stable/user_guide/indexing.html#returning-a-view-versus-a-copy\n",
            "  completed_orders['Trip End Time'] = pd.to_datetime(completed_orders['Trip End Time'])\n"
          ]
        },
        {
          "data": {
            "text/html": [
              "<div>\n",
              "<style scoped>\n",
              "    .dataframe tbody tr th:only-of-type {\n",
              "        vertical-align: middle;\n",
              "    }\n",
              "\n",
              "    .dataframe tbody tr th {\n",
              "        vertical-align: top;\n",
              "    }\n",
              "\n",
              "    .dataframe thead th {\n",
              "        text-align: right;\n",
              "    }\n",
              "</style>\n",
              "<table border=\"1\" class=\"dataframe\">\n",
              "  <thead>\n",
              "    <tr style=\"text-align: right;\">\n",
              "      <th></th>\n",
              "      <th>Trip Start Time</th>\n",
              "      <th>Trip End Time</th>\n",
              "    </tr>\n",
              "  </thead>\n",
              "  <tbody>\n",
              "    <tr>\n",
              "      <th>0</th>\n",
              "      <td>2021-07-01 07:28:04</td>\n",
              "      <td>2021-07-01 07:29:37</td>\n",
              "    </tr>\n",
              "    <tr>\n",
              "      <th>1</th>\n",
              "      <td>2021-07-01 06:38:04</td>\n",
              "      <td>2021-07-01 07:07:28</td>\n",
              "    </tr>\n",
              "    <tr>\n",
              "      <th>2</th>\n",
              "      <td>2021-07-01 06:21:02</td>\n",
              "      <td>2021-07-01 07:02:23</td>\n",
              "    </tr>\n",
              "    <tr>\n",
              "      <th>3</th>\n",
              "      <td>2021-07-01 07:16:07</td>\n",
              "      <td>2021-07-01 07:29:42</td>\n",
              "    </tr>\n",
              "    <tr>\n",
              "      <th>4</th>\n",
              "      <td>2021-07-01 09:30:59</td>\n",
              "      <td>2021-07-01 09:34:36</td>\n",
              "    </tr>\n",
              "    <tr>\n",
              "      <th>...</th>\n",
              "      <td>...</td>\n",
              "      <td>...</td>\n",
              "    </tr>\n",
              "    <tr>\n",
              "      <th>536015</th>\n",
              "      <td>2021-12-30 20:35:06</td>\n",
              "      <td>2021-12-30 21:02:59</td>\n",
              "    </tr>\n",
              "    <tr>\n",
              "      <th>536016</th>\n",
              "      <td>2021-12-30 20:48:13</td>\n",
              "      <td>2021-12-30 21:43:49</td>\n",
              "    </tr>\n",
              "    <tr>\n",
              "      <th>536017</th>\n",
              "      <td>2021-12-30 20:51:45</td>\n",
              "      <td>2021-12-30 21:41:32</td>\n",
              "    </tr>\n",
              "    <tr>\n",
              "      <th>536018</th>\n",
              "      <td>2021-12-30 20:48:50</td>\n",
              "      <td>2021-12-30 21:08:28</td>\n",
              "    </tr>\n",
              "    <tr>\n",
              "      <th>536019</th>\n",
              "      <td>2021-12-30 20:55:38</td>\n",
              "      <td>2021-12-30 22:25:00</td>\n",
              "    </tr>\n",
              "  </tbody>\n",
              "</table>\n",
              "<p>534368 rows × 2 columns</p>\n",
              "</div>"
            ],
            "text/plain": [
              "           Trip Start Time       Trip End Time\n",
              "0      2021-07-01 07:28:04 2021-07-01 07:29:37\n",
              "1      2021-07-01 06:38:04 2021-07-01 07:07:28\n",
              "2      2021-07-01 06:21:02 2021-07-01 07:02:23\n",
              "3      2021-07-01 07:16:07 2021-07-01 07:29:42\n",
              "4      2021-07-01 09:30:59 2021-07-01 09:34:36\n",
              "...                    ...                 ...\n",
              "536015 2021-12-30 20:35:06 2021-12-30 21:02:59\n",
              "536016 2021-12-30 20:48:13 2021-12-30 21:43:49\n",
              "536017 2021-12-30 20:51:45 2021-12-30 21:41:32\n",
              "536018 2021-12-30 20:48:50 2021-12-30 21:08:28\n",
              "536019 2021-12-30 20:55:38 2021-12-30 22:25:00\n",
              "\n",
              "[534368 rows x 2 columns]"
            ]
          },
          "execution_count": 18,
          "metadata": {},
          "output_type": "execute_result"
        }
      ],
      "source": [
        "from datetime import datetime\n",
        "\n",
        "# Convert Trip Start Time and Trip End Time to datetime\n",
        "completed_orders['Trip Start Time'] = pd.to_datetime(completed_orders['Trip Start Time'])\n",
        "completed_orders['Trip End Time'] = pd.to_datetime(completed_orders['Trip End Time'])\n",
        "\n",
        "completed_orders[['Trip Start Time', 'Trip End Time']]"
      ]
    },
    {
      "cell_type": "code",
      "execution_count": 19,
      "metadata": {
        "colab": {
          "base_uri": "https://localhost:8080/"
        },
        "id": "hiYMDpDfV1fj",
        "outputId": "005b16b5-1319-44e8-899c-dc15ffc3dd91"
      },
      "outputs": [
        {
          "data": {
            "text/plain": [
              "Trip Start Time    0\n",
              "Trip End Time      0\n",
              "dtype: int64"
            ]
          },
          "execution_count": 19,
          "metadata": {},
          "output_type": "execute_result"
        }
      ],
      "source": [
        "completed_orders[['Trip Start Time', 'Trip End Time']].isna().sum()"
      ]
    },
    {
      "cell_type": "code",
      "execution_count": 160,
      "metadata": {
        "colab": {
          "base_uri": "https://localhost:8080/"
        },
        "collapsed": true,
        "id": "sQegFIpVVEkF",
        "outputId": "a5bd4c46-2e8d-4b90-cd1a-51ef27da6081"
      },
      "outputs": [
        {
          "name": "stderr",
          "output_type": "stream",
          "text": [
            "/tmp/ipykernel_770149/1444449948.py:2: SettingWithCopyWarning: \n",
            "A value is trying to be set on a copy of a slice from a DataFrame.\n",
            "Try using .loc[row_indexer,col_indexer] = value instead\n",
            "\n",
            "See the caveats in the documentation: https://pandas.pydata.org/pandas-docs/stable/user_guide/indexing.html#returning-a-view-versus-a-copy\n",
            "  completed_orders.loc[:, 'Trip Duration'] = (completed_orders['Trip End Time'] - completed_orders['Trip Start Time'])\n",
            "/tmp/ipykernel_770149/1444449948.py:5: FutureWarning: Setting an item of incompatible dtype is deprecated and will raise in a future error of pandas. Value '[ 1.55       29.4        41.35       ... 49.78333333 19.63333333\n",
            " 89.36666667]' has dtype incompatible with timedelta64[ns], please explicitly cast to a compatible dtype first.\n",
            "  completed_orders.loc[:, 'Trip Duration'] = completed_orders['Trip Duration'].dt.total_seconds() / 60\n"
          ]
        },
        {
          "data": {
            "text/plain": [
              "0          1.550000\n",
              "1         29.400000\n",
              "2         41.350000\n",
              "3         13.583333\n",
              "4          3.616667\n",
              "            ...    \n",
              "536015    27.883333\n",
              "536016    55.600000\n",
              "536017    49.783333\n",
              "536018    19.633333\n",
              "536019    89.366667\n",
              "Name: Trip Duration, Length: 534368, dtype: float64"
            ]
          },
          "execution_count": 160,
          "metadata": {},
          "output_type": "execute_result"
        }
      ],
      "source": [
        "# Calculate trip duration in minutes\n",
        "completed_orders.loc[:, 'Trip Duration'] = (completed_orders['Trip End Time'] - completed_orders['Trip Start Time'])\n",
        "\n",
        "# Convert trip duration to minutes\n",
        "completed_orders.loc[:, 'Trip Duration'] = completed_orders['Trip Duration'].dt.total_seconds() / 60\n",
        "completed_orders['Trip Duration']"
      ]
    },
    {
      "cell_type": "code",
      "execution_count": 161,
      "metadata": {
        "colab": {
          "base_uri": "https://localhost:8080/",
          "height": 424
        },
        "id": "EMd6HFkzO6yI",
        "outputId": "e8091267-66b6-4308-b5c9-d598bc9df744"
      },
      "outputs": [
        {
          "data": {
            "text/html": [
              "<div>\n",
              "<style scoped>\n",
              "    .dataframe tbody tr th:only-of-type {\n",
              "        vertical-align: middle;\n",
              "    }\n",
              "\n",
              "    .dataframe tbody tr th {\n",
              "        vertical-align: top;\n",
              "    }\n",
              "\n",
              "    .dataframe thead th {\n",
              "        text-align: right;\n",
              "    }\n",
              "</style>\n",
              "<table border=\"1\" class=\"dataframe\">\n",
              "  <thead>\n",
              "    <tr style=\"text-align: right;\">\n",
              "      <th></th>\n",
              "      <th>Trip ID</th>\n",
              "      <th>Trip Duration</th>\n",
              "    </tr>\n",
              "  </thead>\n",
              "  <tbody>\n",
              "    <tr>\n",
              "      <th>0</th>\n",
              "      <td>391996</td>\n",
              "      <td>1.550000</td>\n",
              "    </tr>\n",
              "    <tr>\n",
              "      <th>1</th>\n",
              "      <td>391997</td>\n",
              "      <td>29.400000</td>\n",
              "    </tr>\n",
              "    <tr>\n",
              "      <th>2</th>\n",
              "      <td>391998</td>\n",
              "      <td>41.350000</td>\n",
              "    </tr>\n",
              "    <tr>\n",
              "      <th>3</th>\n",
              "      <td>391999</td>\n",
              "      <td>13.583333</td>\n",
              "    </tr>\n",
              "    <tr>\n",
              "      <th>4</th>\n",
              "      <td>392001</td>\n",
              "      <td>3.616667</td>\n",
              "    </tr>\n",
              "    <tr>\n",
              "      <th>...</th>\n",
              "      <td>...</td>\n",
              "      <td>...</td>\n",
              "    </tr>\n",
              "    <tr>\n",
              "      <th>536015</th>\n",
              "      <td>1637696</td>\n",
              "      <td>27.883333</td>\n",
              "    </tr>\n",
              "    <tr>\n",
              "      <th>536016</th>\n",
              "      <td>1637702</td>\n",
              "      <td>55.600000</td>\n",
              "    </tr>\n",
              "    <tr>\n",
              "      <th>536017</th>\n",
              "      <td>1637704</td>\n",
              "      <td>49.783333</td>\n",
              "    </tr>\n",
              "    <tr>\n",
              "      <th>536018</th>\n",
              "      <td>1637705</td>\n",
              "      <td>19.633333</td>\n",
              "    </tr>\n",
              "    <tr>\n",
              "      <th>536019</th>\n",
              "      <td>1637709</td>\n",
              "      <td>89.366667</td>\n",
              "    </tr>\n",
              "  </tbody>\n",
              "</table>\n",
              "<p>534368 rows × 2 columns</p>\n",
              "</div>"
            ],
            "text/plain": [
              "        Trip ID  Trip Duration\n",
              "0        391996       1.550000\n",
              "1        391997      29.400000\n",
              "2        391998      41.350000\n",
              "3        391999      13.583333\n",
              "4        392001       3.616667\n",
              "...         ...            ...\n",
              "536015  1637696      27.883333\n",
              "536016  1637702      55.600000\n",
              "536017  1637704      49.783333\n",
              "536018  1637705      19.633333\n",
              "536019  1637709      89.366667\n",
              "\n",
              "[534368 rows x 2 columns]"
            ]
          },
          "execution_count": 161,
          "metadata": {},
          "output_type": "execute_result"
        }
      ],
      "source": [
        "# Create a new dataframe with Trip ID and Trip Duration (seconds)\n",
        "trip_duration = completed_orders[['Trip ID', 'Trip Duration']].copy()\n",
        "\n",
        "trip_duration[['Trip ID', 'Trip Duration']]\n"
      ]
    },
    {
      "cell_type": "code",
      "execution_count": 162,
      "metadata": {
        "colab": {
          "base_uri": "https://localhost:8080/",
          "height": 424
        },
        "id": "TXoNEjNsX_5s",
        "outputId": "ac1820b8-915e-473f-c6a7-fee54ca5f77d"
      },
      "outputs": [
        {
          "data": {
            "text/html": [
              "<div>\n",
              "<style scoped>\n",
              "    .dataframe tbody tr th:only-of-type {\n",
              "        vertical-align: middle;\n",
              "    }\n",
              "\n",
              "    .dataframe tbody tr th {\n",
              "        vertical-align: top;\n",
              "    }\n",
              "\n",
              "    .dataframe thead th {\n",
              "        text-align: right;\n",
              "    }\n",
              "</style>\n",
              "<table border=\"1\" class=\"dataframe\">\n",
              "  <thead>\n",
              "    <tr style=\"text-align: right;\">\n",
              "      <th></th>\n",
              "      <th>Trip Origin</th>\n",
              "      <th>Trip Destination</th>\n",
              "    </tr>\n",
              "  </thead>\n",
              "  <tbody>\n",
              "    <tr>\n",
              "      <th>0</th>\n",
              "      <td>6.508813001668548,3.37740316890347</td>\n",
              "      <td>6.650969799999999,3.3450307</td>\n",
              "    </tr>\n",
              "    <tr>\n",
              "      <th>1</th>\n",
              "      <td>6.4316714,3.4555375</td>\n",
              "      <td>6.4280814653326,3.4721885847586</td>\n",
              "    </tr>\n",
              "    <tr>\n",
              "      <th>2</th>\n",
              "      <td>6.631679399999999,3.3388976</td>\n",
              "      <td>6.508324099999999,3.3590397</td>\n",
              "    </tr>\n",
              "    <tr>\n",
              "      <th>3</th>\n",
              "      <td>6.572757200000001,3.3677082</td>\n",
              "      <td>6.584881099999999,3.3614073</td>\n",
              "    </tr>\n",
              "    <tr>\n",
              "      <th>4</th>\n",
              "      <td>6.6010417,3.2766339</td>\n",
              "      <td>6.4501069,3.3916154</td>\n",
              "    </tr>\n",
              "    <tr>\n",
              "      <th>...</th>\n",
              "      <td>...</td>\n",
              "      <td>...</td>\n",
              "    </tr>\n",
              "    <tr>\n",
              "      <th>536015</th>\n",
              "      <td>6.448218499999999,3.4772075</td>\n",
              "      <td>6.437787399999999,3.481670199999999</td>\n",
              "    </tr>\n",
              "    <tr>\n",
              "      <th>536016</th>\n",
              "      <td>6.442320899999999,3.4736868</td>\n",
              "      <td>6.436589333407897,3.5559738188407835</td>\n",
              "    </tr>\n",
              "    <tr>\n",
              "      <th>536017</th>\n",
              "      <td>6.4281982,3.492248</td>\n",
              "      <td>6.448088500000001,3.4775747</td>\n",
              "    </tr>\n",
              "    <tr>\n",
              "      <th>536018</th>\n",
              "      <td>6.5869296,3.3632966</td>\n",
              "      <td>6.637906899999999,3.3339515</td>\n",
              "    </tr>\n",
              "    <tr>\n",
              "      <th>536019</th>\n",
              "      <td>6.647209999999999,3.4851489</td>\n",
              "      <td>6.454915198823159,3.555839938365194</td>\n",
              "    </tr>\n",
              "  </tbody>\n",
              "</table>\n",
              "<p>534368 rows × 2 columns</p>\n",
              "</div>"
            ],
            "text/plain": [
              "                               Trip Origin  \\\n",
              "0       6.508813001668548,3.37740316890347   \n",
              "1                      6.4316714,3.4555375   \n",
              "2              6.631679399999999,3.3388976   \n",
              "3              6.572757200000001,3.3677082   \n",
              "4                      6.6010417,3.2766339   \n",
              "...                                    ...   \n",
              "536015         6.448218499999999,3.4772075   \n",
              "536016         6.442320899999999,3.4736868   \n",
              "536017                  6.4281982,3.492248   \n",
              "536018                 6.5869296,3.3632966   \n",
              "536019         6.647209999999999,3.4851489   \n",
              "\n",
              "                            Trip Destination  \n",
              "0                6.650969799999999,3.3450307  \n",
              "1            6.4280814653326,3.4721885847586  \n",
              "2                6.508324099999999,3.3590397  \n",
              "3                6.584881099999999,3.3614073  \n",
              "4                        6.4501069,3.3916154  \n",
              "...                                      ...  \n",
              "536015   6.437787399999999,3.481670199999999  \n",
              "536016  6.436589333407897,3.5559738188407835  \n",
              "536017           6.448088500000001,3.4775747  \n",
              "536018           6.637906899999999,3.3339515  \n",
              "536019   6.454915198823159,3.555839938365194  \n",
              "\n",
              "[534368 rows x 2 columns]"
            ]
          },
          "execution_count": 162,
          "metadata": {},
          "output_type": "execute_result"
        }
      ],
      "source": [
        "\n",
        "completed_orders[['Trip Origin', 'Trip Destination']]"
      ]
    },
    {
      "cell_type": "code",
      "execution_count": 163,
      "metadata": {
        "colab": {
          "base_uri": "https://localhost:8080/",
          "height": 424
        },
        "id": "VQZ09nJzcgBu",
        "outputId": "9f63e38d-f7f7-4e2c-bb49-d2e710e9c848"
      },
      "outputs": [
        {
          "name": "stderr",
          "output_type": "stream",
          "text": [
            "/tmp/ipykernel_770149/2986953114.py:2: SettingWithCopyWarning: \n",
            "A value is trying to be set on a copy of a slice from a DataFrame.\n",
            "Try using .loc[row_indexer,col_indexer] = value instead\n",
            "\n",
            "See the caveats in the documentation: https://pandas.pydata.org/pandas-docs/stable/user_guide/indexing.html#returning-a-view-versus-a-copy\n",
            "  completed_orders[['Origin Latitude', 'Origin Longitude']] = completed_orders['Trip Origin'].str.split(',', expand=True)\n",
            "/tmp/ipykernel_770149/2986953114.py:2: SettingWithCopyWarning: \n",
            "A value is trying to be set on a copy of a slice from a DataFrame.\n",
            "Try using .loc[row_indexer,col_indexer] = value instead\n",
            "\n",
            "See the caveats in the documentation: https://pandas.pydata.org/pandas-docs/stable/user_guide/indexing.html#returning-a-view-versus-a-copy\n",
            "  completed_orders[['Origin Latitude', 'Origin Longitude']] = completed_orders['Trip Origin'].str.split(',', expand=True)\n",
            "/tmp/ipykernel_770149/2986953114.py:3: SettingWithCopyWarning: \n",
            "A value is trying to be set on a copy of a slice from a DataFrame.\n",
            "Try using .loc[row_indexer,col_indexer] = value instead\n",
            "\n",
            "See the caveats in the documentation: https://pandas.pydata.org/pandas-docs/stable/user_guide/indexing.html#returning-a-view-versus-a-copy\n",
            "  completed_orders[['Destination Latitude', 'Destination Longitude']] = completed_orders['Trip Destination'].str.split(',', expand=True)\n",
            "/tmp/ipykernel_770149/2986953114.py:3: SettingWithCopyWarning: \n",
            "A value is trying to be set on a copy of a slice from a DataFrame.\n",
            "Try using .loc[row_indexer,col_indexer] = value instead\n",
            "\n",
            "See the caveats in the documentation: https://pandas.pydata.org/pandas-docs/stable/user_guide/indexing.html#returning-a-view-versus-a-copy\n",
            "  completed_orders[['Destination Latitude', 'Destination Longitude']] = completed_orders['Trip Destination'].str.split(',', expand=True)\n"
          ]
        },
        {
          "data": {
            "text/html": [
              "<div>\n",
              "<style scoped>\n",
              "    .dataframe tbody tr th:only-of-type {\n",
              "        vertical-align: middle;\n",
              "    }\n",
              "\n",
              "    .dataframe tbody tr th {\n",
              "        vertical-align: top;\n",
              "    }\n",
              "\n",
              "    .dataframe thead th {\n",
              "        text-align: right;\n",
              "    }\n",
              "</style>\n",
              "<table border=\"1\" class=\"dataframe\">\n",
              "  <thead>\n",
              "    <tr style=\"text-align: right;\">\n",
              "      <th></th>\n",
              "      <th>Origin Latitude</th>\n",
              "      <th>Origin Longitude</th>\n",
              "    </tr>\n",
              "  </thead>\n",
              "  <tbody>\n",
              "    <tr>\n",
              "      <th>0</th>\n",
              "      <td>6.508813001668548</td>\n",
              "      <td>3.37740316890347</td>\n",
              "    </tr>\n",
              "    <tr>\n",
              "      <th>1</th>\n",
              "      <td>6.4316714</td>\n",
              "      <td>3.4555375</td>\n",
              "    </tr>\n",
              "    <tr>\n",
              "      <th>2</th>\n",
              "      <td>6.631679399999999</td>\n",
              "      <td>3.3388976</td>\n",
              "    </tr>\n",
              "    <tr>\n",
              "      <th>3</th>\n",
              "      <td>6.572757200000001</td>\n",
              "      <td>3.3677082</td>\n",
              "    </tr>\n",
              "    <tr>\n",
              "      <th>4</th>\n",
              "      <td>6.6010417</td>\n",
              "      <td>3.2766339</td>\n",
              "    </tr>\n",
              "    <tr>\n",
              "      <th>...</th>\n",
              "      <td>...</td>\n",
              "      <td>...</td>\n",
              "    </tr>\n",
              "    <tr>\n",
              "      <th>536015</th>\n",
              "      <td>6.448218499999999</td>\n",
              "      <td>3.4772075</td>\n",
              "    </tr>\n",
              "    <tr>\n",
              "      <th>536016</th>\n",
              "      <td>6.442320899999999</td>\n",
              "      <td>3.4736868</td>\n",
              "    </tr>\n",
              "    <tr>\n",
              "      <th>536017</th>\n",
              "      <td>6.4281982</td>\n",
              "      <td>3.492248</td>\n",
              "    </tr>\n",
              "    <tr>\n",
              "      <th>536018</th>\n",
              "      <td>6.5869296</td>\n",
              "      <td>3.3632966</td>\n",
              "    </tr>\n",
              "    <tr>\n",
              "      <th>536019</th>\n",
              "      <td>6.647209999999999</td>\n",
              "      <td>3.4851489</td>\n",
              "    </tr>\n",
              "  </tbody>\n",
              "</table>\n",
              "<p>534368 rows × 2 columns</p>\n",
              "</div>"
            ],
            "text/plain": [
              "          Origin Latitude  Origin Longitude\n",
              "0       6.508813001668548  3.37740316890347\n",
              "1               6.4316714         3.4555375\n",
              "2       6.631679399999999         3.3388976\n",
              "3       6.572757200000001         3.3677082\n",
              "4               6.6010417         3.2766339\n",
              "...                   ...               ...\n",
              "536015  6.448218499999999         3.4772075\n",
              "536016  6.442320899999999         3.4736868\n",
              "536017          6.4281982          3.492248\n",
              "536018          6.5869296         3.3632966\n",
              "536019  6.647209999999999         3.4851489\n",
              "\n",
              "[534368 rows x 2 columns]"
            ]
          },
          "execution_count": 163,
          "metadata": {},
          "output_type": "execute_result"
        }
      ],
      "source": [
        "# Split Trip Origin and Trip Destination into Latitude and Longitude\n",
        "completed_orders[['Origin Latitude', 'Origin Longitude']] = completed_orders['Trip Origin'].str.split(',', expand=True)\n",
        "completed_orders[['Destination Latitude', 'Destination Longitude']] = completed_orders['Trip Destination'].str.split(',', expand=True)\n",
        "\n",
        "completed_orders[['Origin Latitude', 'Origin Longitude']]"
      ]
    },
    {
      "cell_type": "code",
      "execution_count": 164,
      "metadata": {
        "colab": {
          "base_uri": "https://localhost:8080/"
        },
        "id": "9afhDoroXL0W",
        "outputId": "44b584db-a03b-465b-99a9-c83ff978d7b2"
      },
      "outputs": [
        {
          "data": {
            "text/plain": [
              "Destination Latitude     0\n",
              "Destination Longitude    0\n",
              "dtype: int64"
            ]
          },
          "execution_count": 164,
          "metadata": {},
          "output_type": "execute_result"
        }
      ],
      "source": [
        "completed_orders[['Destination Latitude', 'Destination Longitude']].isna().sum()"
      ]
    },
    {
      "cell_type": "code",
      "execution_count": 165,
      "metadata": {
        "colab": {
          "base_uri": "https://localhost:8080/",
          "height": 424
        },
        "id": "z_c5G0CxhqH0",
        "outputId": "6c843c28-d434-41e1-a0a3-f82a0a1f1020"
      },
      "outputs": [
        {
          "name": "stderr",
          "output_type": "stream",
          "text": [
            "/tmp/ipykernel_770149/2799121290.py:2: SettingWithCopyWarning: \n",
            "A value is trying to be set on a copy of a slice from a DataFrame.\n",
            "Try using .loc[row_indexer,col_indexer] = value instead\n",
            "\n",
            "See the caveats in the documentation: https://pandas.pydata.org/pandas-docs/stable/user_guide/indexing.html#returning-a-view-versus-a-copy\n",
            "  completed_orders['Trip ID'] = completed_orders['Trip ID']\n"
          ]
        },
        {
          "data": {
            "text/html": [
              "<div>\n",
              "<style scoped>\n",
              "    .dataframe tbody tr th:only-of-type {\n",
              "        vertical-align: middle;\n",
              "    }\n",
              "\n",
              "    .dataframe tbody tr th {\n",
              "        vertical-align: top;\n",
              "    }\n",
              "\n",
              "    .dataframe thead th {\n",
              "        text-align: right;\n",
              "    }\n",
              "</style>\n",
              "<table border=\"1\" class=\"dataframe\">\n",
              "  <thead>\n",
              "    <tr style=\"text-align: right;\">\n",
              "      <th></th>\n",
              "      <th>Trip ID</th>\n",
              "      <th>Origin Latitude</th>\n",
              "      <th>Origin Longitude</th>\n",
              "    </tr>\n",
              "  </thead>\n",
              "  <tbody>\n",
              "    <tr>\n",
              "      <th>0</th>\n",
              "      <td>391996</td>\n",
              "      <td>6.508813001668548</td>\n",
              "      <td>3.37740316890347</td>\n",
              "    </tr>\n",
              "    <tr>\n",
              "      <th>1</th>\n",
              "      <td>391997</td>\n",
              "      <td>6.4316714</td>\n",
              "      <td>3.4555375</td>\n",
              "    </tr>\n",
              "    <tr>\n",
              "      <th>2</th>\n",
              "      <td>391998</td>\n",
              "      <td>6.631679399999999</td>\n",
              "      <td>3.3388976</td>\n",
              "    </tr>\n",
              "    <tr>\n",
              "      <th>3</th>\n",
              "      <td>391999</td>\n",
              "      <td>6.572757200000001</td>\n",
              "      <td>3.3677082</td>\n",
              "    </tr>\n",
              "    <tr>\n",
              "      <th>4</th>\n",
              "      <td>392001</td>\n",
              "      <td>6.6010417</td>\n",
              "      <td>3.2766339</td>\n",
              "    </tr>\n",
              "    <tr>\n",
              "      <th>...</th>\n",
              "      <td>...</td>\n",
              "      <td>...</td>\n",
              "      <td>...</td>\n",
              "    </tr>\n",
              "    <tr>\n",
              "      <th>536015</th>\n",
              "      <td>1637696</td>\n",
              "      <td>6.448218499999999</td>\n",
              "      <td>3.4772075</td>\n",
              "    </tr>\n",
              "    <tr>\n",
              "      <th>536016</th>\n",
              "      <td>1637702</td>\n",
              "      <td>6.442320899999999</td>\n",
              "      <td>3.4736868</td>\n",
              "    </tr>\n",
              "    <tr>\n",
              "      <th>536017</th>\n",
              "      <td>1637704</td>\n",
              "      <td>6.4281982</td>\n",
              "      <td>3.492248</td>\n",
              "    </tr>\n",
              "    <tr>\n",
              "      <th>536018</th>\n",
              "      <td>1637705</td>\n",
              "      <td>6.5869296</td>\n",
              "      <td>3.3632966</td>\n",
              "    </tr>\n",
              "    <tr>\n",
              "      <th>536019</th>\n",
              "      <td>1637709</td>\n",
              "      <td>6.647209999999999</td>\n",
              "      <td>3.4851489</td>\n",
              "    </tr>\n",
              "  </tbody>\n",
              "</table>\n",
              "<p>534368 rows × 3 columns</p>\n",
              "</div>"
            ],
            "text/plain": [
              "        Trip ID    Origin Latitude  Origin Longitude\n",
              "0        391996  6.508813001668548  3.37740316890347\n",
              "1        391997          6.4316714         3.4555375\n",
              "2        391998  6.631679399999999         3.3388976\n",
              "3        391999  6.572757200000001         3.3677082\n",
              "4        392001          6.6010417         3.2766339\n",
              "...         ...                ...               ...\n",
              "536015  1637696  6.448218499999999         3.4772075\n",
              "536016  1637702  6.442320899999999         3.4736868\n",
              "536017  1637704          6.4281982          3.492248\n",
              "536018  1637705          6.5869296         3.3632966\n",
              "536019  1637709  6.647209999999999         3.4851489\n",
              "\n",
              "[534368 rows x 3 columns]"
            ]
          },
          "execution_count": 165,
          "metadata": {},
          "output_type": "execute_result"
        }
      ],
      "source": [
        "# Add Trip ID column\n",
        "completed_orders['Trip ID'] = completed_orders['Trip ID']\n",
        "\n",
        "completed_orders[['Trip ID', 'Origin Latitude', 'Origin Longitude']]\n"
      ]
    },
    {
      "cell_type": "code",
      "execution_count": 166,
      "metadata": {
        "colab": {
          "base_uri": "https://localhost:8080/",
          "height": 424
        },
        "id": "p2GxGr_UhqWV",
        "outputId": "c683cf46-0b8b-4678-dd43-8fe80cb84ad4"
      },
      "outputs": [
        {
          "name": "stderr",
          "output_type": "stream",
          "text": [
            "/tmp/ipykernel_770149/3246493596.py:2: SettingWithCopyWarning: \n",
            "A value is trying to be set on a copy of a slice from a DataFrame.\n",
            "Try using .loc[row_indexer,col_indexer] = value instead\n",
            "\n",
            "See the caveats in the documentation: https://pandas.pydata.org/pandas-docs/stable/user_guide/indexing.html#returning-a-view-versus-a-copy\n",
            "  completed_orders['Origin Latitude'] = completed_orders['Origin Latitude'].astype(float)\n",
            "/tmp/ipykernel_770149/3246493596.py:3: SettingWithCopyWarning: \n",
            "A value is trying to be set on a copy of a slice from a DataFrame.\n",
            "Try using .loc[row_indexer,col_indexer] = value instead\n",
            "\n",
            "See the caveats in the documentation: https://pandas.pydata.org/pandas-docs/stable/user_guide/indexing.html#returning-a-view-versus-a-copy\n",
            "  completed_orders['Origin Longitude'] = completed_orders['Origin Longitude'].astype(float)\n",
            "/tmp/ipykernel_770149/3246493596.py:4: SettingWithCopyWarning: \n",
            "A value is trying to be set on a copy of a slice from a DataFrame.\n",
            "Try using .loc[row_indexer,col_indexer] = value instead\n",
            "\n",
            "See the caveats in the documentation: https://pandas.pydata.org/pandas-docs/stable/user_guide/indexing.html#returning-a-view-versus-a-copy\n",
            "  completed_orders['Destination Latitude'] = completed_orders['Destination Latitude'].astype(float)\n",
            "/tmp/ipykernel_770149/3246493596.py:5: SettingWithCopyWarning: \n",
            "A value is trying to be set on a copy of a slice from a DataFrame.\n",
            "Try using .loc[row_indexer,col_indexer] = value instead\n",
            "\n",
            "See the caveats in the documentation: https://pandas.pydata.org/pandas-docs/stable/user_guide/indexing.html#returning-a-view-versus-a-copy\n",
            "  completed_orders['Destination Longitude'] = completed_orders['Destination Longitude'].astype(float)\n"
          ]
        },
        {
          "data": {
            "text/html": [
              "<div>\n",
              "<style scoped>\n",
              "    .dataframe tbody tr th:only-of-type {\n",
              "        vertical-align: middle;\n",
              "    }\n",
              "\n",
              "    .dataframe tbody tr th {\n",
              "        vertical-align: top;\n",
              "    }\n",
              "\n",
              "    .dataframe thead th {\n",
              "        text-align: right;\n",
              "    }\n",
              "</style>\n",
              "<table border=\"1\" class=\"dataframe\">\n",
              "  <thead>\n",
              "    <tr style=\"text-align: right;\">\n",
              "      <th></th>\n",
              "      <th>Trip ID</th>\n",
              "      <th>Destination Longitude</th>\n",
              "      <th>Origin Longitude</th>\n",
              "      <th>Destination Latitude</th>\n",
              "      <th>Destination Longitude</th>\n",
              "    </tr>\n",
              "  </thead>\n",
              "  <tbody>\n",
              "    <tr>\n",
              "      <th>0</th>\n",
              "      <td>391996</td>\n",
              "      <td>3.345031</td>\n",
              "      <td>3.377403</td>\n",
              "      <td>6.650970</td>\n",
              "      <td>3.345031</td>\n",
              "    </tr>\n",
              "    <tr>\n",
              "      <th>1</th>\n",
              "      <td>391997</td>\n",
              "      <td>3.472189</td>\n",
              "      <td>3.455538</td>\n",
              "      <td>6.428081</td>\n",
              "      <td>3.472189</td>\n",
              "    </tr>\n",
              "    <tr>\n",
              "      <th>2</th>\n",
              "      <td>391998</td>\n",
              "      <td>3.359040</td>\n",
              "      <td>3.338898</td>\n",
              "      <td>6.508324</td>\n",
              "      <td>3.359040</td>\n",
              "    </tr>\n",
              "    <tr>\n",
              "      <th>3</th>\n",
              "      <td>391999</td>\n",
              "      <td>3.361407</td>\n",
              "      <td>3.367708</td>\n",
              "      <td>6.584881</td>\n",
              "      <td>3.361407</td>\n",
              "    </tr>\n",
              "    <tr>\n",
              "      <th>4</th>\n",
              "      <td>392001</td>\n",
              "      <td>3.391615</td>\n",
              "      <td>3.276634</td>\n",
              "      <td>6.450107</td>\n",
              "      <td>3.391615</td>\n",
              "    </tr>\n",
              "    <tr>\n",
              "      <th>...</th>\n",
              "      <td>...</td>\n",
              "      <td>...</td>\n",
              "      <td>...</td>\n",
              "      <td>...</td>\n",
              "      <td>...</td>\n",
              "    </tr>\n",
              "    <tr>\n",
              "      <th>536015</th>\n",
              "      <td>1637696</td>\n",
              "      <td>3.481670</td>\n",
              "      <td>3.477208</td>\n",
              "      <td>6.437787</td>\n",
              "      <td>3.481670</td>\n",
              "    </tr>\n",
              "    <tr>\n",
              "      <th>536016</th>\n",
              "      <td>1637702</td>\n",
              "      <td>3.555974</td>\n",
              "      <td>3.473687</td>\n",
              "      <td>6.436589</td>\n",
              "      <td>3.555974</td>\n",
              "    </tr>\n",
              "    <tr>\n",
              "      <th>536017</th>\n",
              "      <td>1637704</td>\n",
              "      <td>3.477575</td>\n",
              "      <td>3.492248</td>\n",
              "      <td>6.448089</td>\n",
              "      <td>3.477575</td>\n",
              "    </tr>\n",
              "    <tr>\n",
              "      <th>536018</th>\n",
              "      <td>1637705</td>\n",
              "      <td>3.333951</td>\n",
              "      <td>3.363297</td>\n",
              "      <td>6.637907</td>\n",
              "      <td>3.333951</td>\n",
              "    </tr>\n",
              "    <tr>\n",
              "      <th>536019</th>\n",
              "      <td>1637709</td>\n",
              "      <td>3.555840</td>\n",
              "      <td>3.485149</td>\n",
              "      <td>6.454915</td>\n",
              "      <td>3.555840</td>\n",
              "    </tr>\n",
              "  </tbody>\n",
              "</table>\n",
              "<p>534368 rows × 5 columns</p>\n",
              "</div>"
            ],
            "text/plain": [
              "        Trip ID  Destination Longitude  Origin Longitude  \\\n",
              "0        391996               3.345031          3.377403   \n",
              "1        391997               3.472189          3.455538   \n",
              "2        391998               3.359040          3.338898   \n",
              "3        391999               3.361407          3.367708   \n",
              "4        392001               3.391615          3.276634   \n",
              "...         ...                    ...               ...   \n",
              "536015  1637696               3.481670          3.477208   \n",
              "536016  1637702               3.555974          3.473687   \n",
              "536017  1637704               3.477575          3.492248   \n",
              "536018  1637705               3.333951          3.363297   \n",
              "536019  1637709               3.555840          3.485149   \n",
              "\n",
              "        Destination Latitude  Destination Longitude  \n",
              "0                   6.650970               3.345031  \n",
              "1                   6.428081               3.472189  \n",
              "2                   6.508324               3.359040  \n",
              "3                   6.584881               3.361407  \n",
              "4                   6.450107               3.391615  \n",
              "...                      ...                    ...  \n",
              "536015              6.437787               3.481670  \n",
              "536016              6.436589               3.555974  \n",
              "536017              6.448089               3.477575  \n",
              "536018              6.637907               3.333951  \n",
              "536019              6.454915               3.555840  \n",
              "\n",
              "[534368 rows x 5 columns]"
            ]
          },
          "execution_count": 166,
          "metadata": {},
          "output_type": "execute_result"
        }
      ],
      "source": [
        "# Convert Latitude and Longitude to float\n",
        "completed_orders['Origin Latitude'] = completed_orders['Origin Latitude'].astype(float)\n",
        "completed_orders['Origin Longitude'] = completed_orders['Origin Longitude'].astype(float)\n",
        "completed_orders['Destination Latitude'] = completed_orders['Destination Latitude'].astype(float)\n",
        "completed_orders['Destination Longitude'] = completed_orders['Destination Longitude'].astype(float)\n",
        "\n",
        "#completed_orders['Destination Longitude']\n",
        "trip_location = completed_orders[['Trip ID', 'Destination Longitude', 'Origin Longitude', 'Destination Latitude', 'Destination Longitude']]\n",
        "trip_location"
      ]
    },
    {
      "cell_type": "markdown",
      "metadata": {
        "id": "cRO3caFxvBdK"
      },
      "source": [
        "### merging the two data sets for further exploration"
      ]
    },
    {
      "cell_type": "code",
      "execution_count": 167,
      "metadata": {
        "colab": {
          "base_uri": "https://localhost:8080/",
          "height": 434
        },
        "id": "N0m39vgKvP0M",
        "outputId": "042f2b66-45c3-4546-ccfc-f8d2ae009e4f"
      },
      "outputs": [
        {
          "data": {
            "text/html": [
              "<div>\n",
              "<style scoped>\n",
              "    .dataframe tbody tr th:only-of-type {\n",
              "        vertical-align: middle;\n",
              "    }\n",
              "\n",
              "    .dataframe tbody tr th {\n",
              "        vertical-align: top;\n",
              "    }\n",
              "\n",
              "    .dataframe thead th {\n",
              "        text-align: right;\n",
              "    }\n",
              "</style>\n",
              "<table border=\"1\" class=\"dataframe\">\n",
              "  <thead>\n",
              "    <tr style=\"text-align: right;\">\n",
              "      <th></th>\n",
              "      <th>id</th>\n",
              "      <th>order_id</th>\n",
              "      <th>driver_id</th>\n",
              "      <th>driver_action</th>\n",
              "      <th>lat</th>\n",
              "      <th>lng</th>\n",
              "      <th>Trip ID</th>\n",
              "      <th>Trip Origin</th>\n",
              "      <th>Trip Destination</th>\n",
              "      <th>Trip Start Time</th>\n",
              "      <th>Trip End Time</th>\n",
              "      <th>Trip Duration</th>\n",
              "      <th>Origin Latitude</th>\n",
              "      <th>Origin Longitude</th>\n",
              "      <th>Destination Latitude</th>\n",
              "      <th>Destination Longitude</th>\n",
              "    </tr>\n",
              "  </thead>\n",
              "  <tbody>\n",
              "    <tr>\n",
              "      <th>0</th>\n",
              "      <td>1</td>\n",
              "      <td>392001</td>\n",
              "      <td>243828</td>\n",
              "      <td>accepted</td>\n",
              "      <td>6.602207</td>\n",
              "      <td>3.270465</td>\n",
              "      <td>392001</td>\n",
              "      <td>6.6010417,3.2766339</td>\n",
              "      <td>6.4501069,3.3916154</td>\n",
              "      <td>2021-07-01 09:30:59</td>\n",
              "      <td>2021-07-01 09:34:36</td>\n",
              "      <td>3.616667</td>\n",
              "      <td>6.601042</td>\n",
              "      <td>3.276634</td>\n",
              "      <td>6.450107</td>\n",
              "      <td>3.391615</td>\n",
              "    </tr>\n",
              "    <tr>\n",
              "      <th>1</th>\n",
              "      <td>2</td>\n",
              "      <td>392001</td>\n",
              "      <td>243588</td>\n",
              "      <td>rejected</td>\n",
              "      <td>6.592097</td>\n",
              "      <td>3.287445</td>\n",
              "      <td>392001</td>\n",
              "      <td>6.6010417,3.2766339</td>\n",
              "      <td>6.4501069,3.3916154</td>\n",
              "      <td>2021-07-01 09:30:59</td>\n",
              "      <td>2021-07-01 09:34:36</td>\n",
              "      <td>3.616667</td>\n",
              "      <td>6.601042</td>\n",
              "      <td>3.276634</td>\n",
              "      <td>6.450107</td>\n",
              "      <td>3.391615</td>\n",
              "    </tr>\n",
              "    <tr>\n",
              "      <th>2</th>\n",
              "      <td>3</td>\n",
              "      <td>392001</td>\n",
              "      <td>243830</td>\n",
              "      <td>rejected</td>\n",
              "      <td>6.596133</td>\n",
              "      <td>3.281784</td>\n",
              "      <td>392001</td>\n",
              "      <td>6.6010417,3.2766339</td>\n",
              "      <td>6.4501069,3.3916154</td>\n",
              "      <td>2021-07-01 09:30:59</td>\n",
              "      <td>2021-07-01 09:34:36</td>\n",
              "      <td>3.616667</td>\n",
              "      <td>6.601042</td>\n",
              "      <td>3.276634</td>\n",
              "      <td>6.450107</td>\n",
              "      <td>3.391615</td>\n",
              "    </tr>\n",
              "    <tr>\n",
              "      <th>3</th>\n",
              "      <td>4</td>\n",
              "      <td>392001</td>\n",
              "      <td>243539</td>\n",
              "      <td>rejected</td>\n",
              "      <td>6.596142</td>\n",
              "      <td>3.280526</td>\n",
              "      <td>392001</td>\n",
              "      <td>6.6010417,3.2766339</td>\n",
              "      <td>6.4501069,3.3916154</td>\n",
              "      <td>2021-07-01 09:30:59</td>\n",
              "      <td>2021-07-01 09:34:36</td>\n",
              "      <td>3.616667</td>\n",
              "      <td>6.601042</td>\n",
              "      <td>3.276634</td>\n",
              "      <td>6.450107</td>\n",
              "      <td>3.391615</td>\n",
              "    </tr>\n",
              "    <tr>\n",
              "      <th>4</th>\n",
              "      <td>5</td>\n",
              "      <td>392001</td>\n",
              "      <td>171653</td>\n",
              "      <td>rejected</td>\n",
              "      <td>6.609232</td>\n",
              "      <td>3.288800</td>\n",
              "      <td>392001</td>\n",
              "      <td>6.6010417,3.2766339</td>\n",
              "      <td>6.4501069,3.3916154</td>\n",
              "      <td>2021-07-01 09:30:59</td>\n",
              "      <td>2021-07-01 09:34:36</td>\n",
              "      <td>3.616667</td>\n",
              "      <td>6.601042</td>\n",
              "      <td>3.276634</td>\n",
              "      <td>6.450107</td>\n",
              "      <td>3.391615</td>\n",
              "    </tr>\n",
              "  </tbody>\n",
              "</table>\n",
              "</div>"
            ],
            "text/plain": [
              "   id  order_id  driver_id driver_action       lat       lng  Trip ID  \\\n",
              "0   1    392001     243828      accepted  6.602207  3.270465   392001   \n",
              "1   2    392001     243588      rejected  6.592097  3.287445   392001   \n",
              "2   3    392001     243830      rejected  6.596133  3.281784   392001   \n",
              "3   4    392001     243539      rejected  6.596142  3.280526   392001   \n",
              "4   5    392001     171653      rejected  6.609232  3.288800   392001   \n",
              "\n",
              "           Trip Origin     Trip Destination     Trip Start Time  \\\n",
              "0  6.6010417,3.2766339  6.4501069,3.3916154 2021-07-01 09:30:59   \n",
              "1  6.6010417,3.2766339  6.4501069,3.3916154 2021-07-01 09:30:59   \n",
              "2  6.6010417,3.2766339  6.4501069,3.3916154 2021-07-01 09:30:59   \n",
              "3  6.6010417,3.2766339  6.4501069,3.3916154 2021-07-01 09:30:59   \n",
              "4  6.6010417,3.2766339  6.4501069,3.3916154 2021-07-01 09:30:59   \n",
              "\n",
              "        Trip End Time  Trip Duration  Origin Latitude  Origin Longitude  \\\n",
              "0 2021-07-01 09:34:36       3.616667         6.601042          3.276634   \n",
              "1 2021-07-01 09:34:36       3.616667         6.601042          3.276634   \n",
              "2 2021-07-01 09:34:36       3.616667         6.601042          3.276634   \n",
              "3 2021-07-01 09:34:36       3.616667         6.601042          3.276634   \n",
              "4 2021-07-01 09:34:36       3.616667         6.601042          3.276634   \n",
              "\n",
              "   Destination Latitude  Destination Longitude  \n",
              "0              6.450107               3.391615  \n",
              "1              6.450107               3.391615  \n",
              "2              6.450107               3.391615  \n",
              "3              6.450107               3.391615  \n",
              "4              6.450107               3.391615  "
            ]
          },
          "execution_count": 167,
          "metadata": {},
          "output_type": "execute_result"
        }
      ],
      "source": [
        "# Merge the datasets on the relevant columns\n",
        "merged_df = pd.merge(delivery_orders, completed_orders, left_on='order_id', right_on='Trip ID', how='inner')\n",
        "merged_df.head()"
      ]
    },
    {
      "cell_type": "code",
      "execution_count": 168,
      "metadata": {
        "colab": {
          "base_uri": "https://localhost:8080/",
          "height": 414
        },
        "id": "8LWKilIWvTms",
        "outputId": "a309ba3b-71c3-4d84-af79-aa24d1a98139"
      },
      "outputs": [
        {
          "data": {
            "text/html": [
              "<div>\n",
              "<style scoped>\n",
              "    .dataframe tbody tr th:only-of-type {\n",
              "        vertical-align: middle;\n",
              "    }\n",
              "\n",
              "    .dataframe tbody tr th {\n",
              "        vertical-align: top;\n",
              "    }\n",
              "\n",
              "    .dataframe thead th {\n",
              "        text-align: right;\n",
              "    }\n",
              "</style>\n",
              "<table border=\"1\" class=\"dataframe\">\n",
              "  <thead>\n",
              "    <tr style=\"text-align: right;\">\n",
              "      <th></th>\n",
              "      <th>id</th>\n",
              "      <th>order_id</th>\n",
              "      <th>driver_id</th>\n",
              "      <th>driver_action</th>\n",
              "      <th>lat</th>\n",
              "      <th>lng</th>\n",
              "      <th>Trip ID</th>\n",
              "      <th>Trip Start Time</th>\n",
              "      <th>Trip End Time</th>\n",
              "      <th>Trip Duration</th>\n",
              "      <th>Origin Latitude</th>\n",
              "      <th>Origin Longitude</th>\n",
              "      <th>Destination Latitude</th>\n",
              "      <th>Destination Longitude</th>\n",
              "    </tr>\n",
              "  </thead>\n",
              "  <tbody>\n",
              "    <tr>\n",
              "      <th>0</th>\n",
              "      <td>1</td>\n",
              "      <td>392001</td>\n",
              "      <td>243828</td>\n",
              "      <td>accepted</td>\n",
              "      <td>6.602207</td>\n",
              "      <td>3.270465</td>\n",
              "      <td>392001</td>\n",
              "      <td>2021-07-01 09:30:59</td>\n",
              "      <td>2021-07-01 09:34:36</td>\n",
              "      <td>3.616667</td>\n",
              "      <td>6.601042</td>\n",
              "      <td>3.276634</td>\n",
              "      <td>6.450107</td>\n",
              "      <td>3.391615</td>\n",
              "    </tr>\n",
              "    <tr>\n",
              "      <th>1</th>\n",
              "      <td>2</td>\n",
              "      <td>392001</td>\n",
              "      <td>243588</td>\n",
              "      <td>rejected</td>\n",
              "      <td>6.592097</td>\n",
              "      <td>3.287445</td>\n",
              "      <td>392001</td>\n",
              "      <td>2021-07-01 09:30:59</td>\n",
              "      <td>2021-07-01 09:34:36</td>\n",
              "      <td>3.616667</td>\n",
              "      <td>6.601042</td>\n",
              "      <td>3.276634</td>\n",
              "      <td>6.450107</td>\n",
              "      <td>3.391615</td>\n",
              "    </tr>\n",
              "    <tr>\n",
              "      <th>2</th>\n",
              "      <td>3</td>\n",
              "      <td>392001</td>\n",
              "      <td>243830</td>\n",
              "      <td>rejected</td>\n",
              "      <td>6.596133</td>\n",
              "      <td>3.281784</td>\n",
              "      <td>392001</td>\n",
              "      <td>2021-07-01 09:30:59</td>\n",
              "      <td>2021-07-01 09:34:36</td>\n",
              "      <td>3.616667</td>\n",
              "      <td>6.601042</td>\n",
              "      <td>3.276634</td>\n",
              "      <td>6.450107</td>\n",
              "      <td>3.391615</td>\n",
              "    </tr>\n",
              "    <tr>\n",
              "      <th>3</th>\n",
              "      <td>4</td>\n",
              "      <td>392001</td>\n",
              "      <td>243539</td>\n",
              "      <td>rejected</td>\n",
              "      <td>6.596142</td>\n",
              "      <td>3.280526</td>\n",
              "      <td>392001</td>\n",
              "      <td>2021-07-01 09:30:59</td>\n",
              "      <td>2021-07-01 09:34:36</td>\n",
              "      <td>3.616667</td>\n",
              "      <td>6.601042</td>\n",
              "      <td>3.276634</td>\n",
              "      <td>6.450107</td>\n",
              "      <td>3.391615</td>\n",
              "    </tr>\n",
              "    <tr>\n",
              "      <th>4</th>\n",
              "      <td>5</td>\n",
              "      <td>392001</td>\n",
              "      <td>171653</td>\n",
              "      <td>rejected</td>\n",
              "      <td>6.609232</td>\n",
              "      <td>3.288800</td>\n",
              "      <td>392001</td>\n",
              "      <td>2021-07-01 09:30:59</td>\n",
              "      <td>2021-07-01 09:34:36</td>\n",
              "      <td>3.616667</td>\n",
              "      <td>6.601042</td>\n",
              "      <td>3.276634</td>\n",
              "      <td>6.450107</td>\n",
              "      <td>3.391615</td>\n",
              "    </tr>\n",
              "  </tbody>\n",
              "</table>\n",
              "</div>"
            ],
            "text/plain": [
              "   id  order_id  driver_id driver_action       lat       lng  Trip ID  \\\n",
              "0   1    392001     243828      accepted  6.602207  3.270465   392001   \n",
              "1   2    392001     243588      rejected  6.592097  3.287445   392001   \n",
              "2   3    392001     243830      rejected  6.596133  3.281784   392001   \n",
              "3   4    392001     243539      rejected  6.596142  3.280526   392001   \n",
              "4   5    392001     171653      rejected  6.609232  3.288800   392001   \n",
              "\n",
              "      Trip Start Time       Trip End Time  Trip Duration  Origin Latitude  \\\n",
              "0 2021-07-01 09:30:59 2021-07-01 09:34:36       3.616667         6.601042   \n",
              "1 2021-07-01 09:30:59 2021-07-01 09:34:36       3.616667         6.601042   \n",
              "2 2021-07-01 09:30:59 2021-07-01 09:34:36       3.616667         6.601042   \n",
              "3 2021-07-01 09:30:59 2021-07-01 09:34:36       3.616667         6.601042   \n",
              "4 2021-07-01 09:30:59 2021-07-01 09:34:36       3.616667         6.601042   \n",
              "\n",
              "   Origin Longitude  Destination Latitude  Destination Longitude  \n",
              "0          3.276634              6.450107               3.391615  \n",
              "1          3.276634              6.450107               3.391615  \n",
              "2          3.276634              6.450107               3.391615  \n",
              "3          3.276634              6.450107               3.391615  \n",
              "4          3.276634              6.450107               3.391615  "
            ]
          },
          "execution_count": 168,
          "metadata": {},
          "output_type": "execute_result"
        }
      ],
      "source": [
        "merged_df.drop(columns=['Trip Origin', 'Trip Destination'], inplace=True)\n",
        "merged_df.head()"
      ]
    },
    {
      "cell_type": "markdown",
      "metadata": {},
      "source": [
        "To find out how many times each drivers rejected a trip"
      ]
    },
    {
      "cell_type": "code",
      "execution_count": 169,
      "metadata": {
        "colab": {
          "base_uri": "https://localhost:8080/"
        },
        "id": "saiz6tIqxtbr",
        "outputId": "18f5f888-1ed5-4ed4-8978-3e52eaf48e65"
      },
      "outputs": [
        {
          "data": {
            "text/plain": [
              "(driver_id\n",
              " 245538    6931\n",
              " 243020    6447\n",
              " 242971    6231\n",
              " 243676    5841\n",
              " 243932    5778\n",
              " Name: count, dtype: int64,\n",
              " driver_id\n",
              " 245840    1\n",
              " 247182    1\n",
              " 246602    1\n",
              " 246082    1\n",
              " 245907    1\n",
              " Name: count, dtype: int64)"
            ]
          },
          "execution_count": 169,
          "metadata": {},
          "output_type": "execute_result"
        }
      ],
      "source": [
        "# Count the number of rejections per driver\n",
        "rejections = merged_df[merged_df['driver_action'] == 'rejected']\n",
        "rejections_per_driver = rejections['driver_id'].value_counts()\n",
        "\n",
        "# Display the results\n",
        "rejections_per_driver.head(), rejections_per_driver.tail()"
      ]
    },
    {
      "cell_type": "markdown",
      "metadata": {},
      "source": [
        "### Computes shortest distance, driving route distance, and other key variables between two geographic coordinates defined in longitude and latitude and two timestamps."
      ]
    },
    {
      "cell_type": "code",
      "execution_count": 175,
      "metadata": {},
      "outputs": [],
      "source": [
        "\n",
        "# Helper function to compute geodesic distance\n",
        "def compute_geodesic_distance(coord1, coord2):\n",
        "    return geodesic(coord1, coord2).meters\n",
        "\n",
        "# Helper function to compute haversine distance\n",
        "def compute_haversine_distance(coord1, coord2):\n",
        "    return hs.haversine(coord1, coord2) * 1000  # Convert to meters\n",
        "\n"
      ]
    },
    {
      "cell_type": "code",
      "execution_count": 176,
      "metadata": {},
      "outputs": [],
      "source": [
        "# Helper function to compute speed\n",
        "def compute_speed(distance, start_time, end_time):\n",
        "    time_diff = (end_time - start_time).total_seconds() / 3600.0  # in hours\n",
        "    if time_diff == 0:\n",
        "        return 0\n",
        "    return distance / time_diff"
      ]
    },
    {
      "cell_type": "code",
      "execution_count": 187,
      "metadata": {},
      "outputs": [
        {
          "name": "stderr",
          "output_type": "stream",
          "text": [
            "/tmp/ipykernel_770149/3217277741.py:1: SettingWithCopyWarning: \n",
            "A value is trying to be set on a copy of a slice from a DataFrame.\n",
            "Try using .loc[row_indexer,col_indexer] = value instead\n",
            "\n",
            "See the caveats in the documentation: https://pandas.pydata.org/pandas-docs/stable/user_guide/indexing.html#returning-a-view-versus-a-copy\n",
            "  completed_orders['Geodesic Distance (m)'] = completed_orders.apply(lambda row: compute_geodesic_distance(row['Trip Origin'], row['Trip Destination']), axis=1)\n"
          ]
        }
      ],
      "source": [
        "completed_orders['Geodesic Distance (m)'] = completed_orders.apply(lambda row: compute_geodesic_distance(row['Trip Origin'], row['Trip Destination']), axis=1)\n"
      ]
    },
    {
      "cell_type": "code",
      "execution_count": null,
      "metadata": {},
      "outputs": [],
      "source": [
        "completed_orders['Haversine Distance (m)'] = completed_orders.apply(lambda row: compute_haversine_distance(row['Trip Origin'], row['Trip Destination']), axis=1)\n"
      ]
    },
    {
      "cell_type": "code",
      "execution_count": null,
      "metadata": {},
      "outputs": [],
      "source": [
        "completed_orders['Speed (m/s)'] = completed_orders.apply(lambda row: compute_speed(row['Geodesic Distance (m)'], row['Trip Start Time'], row['Trip End Time']), axis=1)"
      ]
    },
    {
      "cell_type": "markdown",
      "metadata": {},
      "source": [
        "### Compute number of riders and orders within 500m circles"
      ]
    },
    {
      "cell_type": "code",
      "execution_count": 188,
      "metadata": {},
      "outputs": [],
      "source": [
        "# Compute number of riders and orders within 500m circles\n",
        "def count_within_radius(df, origin, radius=500):\n",
        "    origin_coords = tuple(map(float, origin.split(',')))\n",
        "    return df.apply(lambda row: compute_haversine_distance(origin_coords, (row['lat'], row['lng'])) <= radius, axis=1).sum()"
      ]
    },
    {
      "cell_type": "code",
      "execution_count": null,
      "metadata": {},
      "outputs": [],
      "source": [
        "accepted_orders = delivery_orders[delivery_orders['driver_action'] == 'accepted']\n",
        "unfulfilled_orders = delivery_orders[delivery_orders['driver_action'] != 'accepted']"
      ]
    },
    {
      "cell_type": "code",
      "execution_count": null,
      "metadata": {},
      "outputs": [],
      "source": [
        "completed_orders['Accepted Riders within 500m'] = completed_orders['Trip Origin'].apply(lambda x: count_within_radius(accepted_orders, ','.join(map(str, x))))\n",
        "completed_orders['Unfulfilled Orders within 500m'] = completed_orders['Trip Origin'].apply(lambda x: count_within_radius(unfulfilled_orders, ','.join(map(str, x))))"
      ]
    },
    {
      "cell_type": "markdown",
      "metadata": {
        "id": "K89V4Vs1qt4B"
      },
      "source": [
        "# Data Visualization"
      ]
    },
    {
      "cell_type": "code",
      "execution_count": 180,
      "metadata": {
        "collapsed": true,
        "id": "ICc0X4JbqyZU"
      },
      "outputs": [],
      "source": [
        "import folium\n",
        "from sklearn.cluster import KMeans\n",
        "import matplotlib.pyplot as plt\n",
        "import seaborn as sns"
      ]
    },
    {
      "cell_type": "code",
      "execution_count": 181,
      "metadata": {
        "colab": {
          "base_uri": "https://localhost:8080/",
          "height": 472
        },
        "id": "tF4d2JJZeXNQ",
        "outputId": "7091d43d-bb79-4195-da49-656730fdc0d0"
      },
      "outputs": [
        {
          "data": {
            "image/png": "[encoded data removed]",
            "text/plain": [
              "<Figure size 640x480 with 1 Axes>"
            ]
          },
          "metadata": {},
          "output_type": "display_data"
        }
      ],
      "source": [
        "# Histogram of trip durations\n",
        "#plt.figure(figsize=(10, 6))\n",
        "plt.hist(completed_orders['Trip Duration'], bins=50, alpha=0.7, color='blue')\n",
        "plt.title('Trip Durations')\n",
        "plt.xlabel('Trip Duration in minutes')\n",
        "plt.ylabel('Frequency')\n",
        "plt.show()"
      ]
    },
    {
      "cell_type": "code",
      "execution_count": null,
      "metadata": {
        "id": "bh_-f8OByJYG"
      },
      "outputs": [],
      "source": []
    },
    {
      "cell_type": "code",
      "execution_count": 182,
      "metadata": {
        "colab": {
          "base_uri": "https://localhost:8080/",
          "height": 671
        },
        "id": "P28szb84yJa4",
        "outputId": "39d3f2be-102c-4eec-fc4e-4857c7eed5c5"
      },
      "outputs": [
        {
          "name": "stderr",
          "output_type": "stream",
          "text": [
            "/tmp/ipykernel_770149/1902983383.py:4: FutureWarning: \n",
            "\n",
            "Passing `palette` without assigning `hue` is deprecated and will be removed in v0.14.0. Assign the `x` variable to `hue` and set `legend=False` for the same effect.\n",
            "\n",
            "  sns.barplot(x=top_rejections_per_driver.index, y=top_rejections_per_driver.values, palette='viridis')\n"
          ]
        },
        {
          "data": {
            "image/png": "[encoded data removed]",
            "text/plain": [
              "<Figure size 1000x600 with 1 Axes>"
            ]
          },
          "metadata": {},
          "output_type": "display_data"
        }
      ],
      "source": [
        "\n",
        "# Plot the top 10 drivers with the most rejections\n",
        "top_rejections_per_driver = rejections_per_driver.head(10)\n",
        "plt.figure(figsize=(10, 6))\n",
        "sns.barplot(x=top_rejections_per_driver.index, y=top_rejections_per_driver.values, palette='viridis')\n",
        "plt.xlabel('Driver ID')\n",
        "plt.ylabel('Number of Rejections')\n",
        "plt.title('Top 10 Drivers with the Most Rejections')\n",
        "plt.show()"
      ]
    },
    {
      "cell_type": "code",
      "execution_count": 183,
      "metadata": {},
      "outputs": [
        {
          "name": "stderr",
          "output_type": "stream",
          "text": [
            "/home/tema/10X/Week8/Logistic optimization/Lenv/lib/python3.12/site-packages/IPython/core/pylabtools.py:170: UserWarning: Creating legend with loc=\"best\" can be slow with large amounts of data.\n",
            "  fig.canvas.print_figure(bytes_io, **kw)\n"
          ]
        },
        {
          "data": {
            "image/png": "[encoded data removed]",
            "text/plain": [
              "<Figure size 640x480 with 1 Axes>"
            ]
          },
          "metadata": {},
          "output_type": "display_data"
        }
      ],
      "source": [
        "# Scatter plot of trip origins and destinations\n",
        "plt.scatter(completed_orders['Origin Longitude'], completed_orders['Origin Latitude'], color='red', label='Origin')\n",
        "plt.scatter(completed_orders['Destination Longitude'], completed_orders['Destination Latitude'], color='green', label='Destination')\n",
        "plt.title('Trip Origins and Destinations')\n",
        "plt.xlabel('Longitude')\n",
        "plt.ylabel('Latitude')\n",
        "plt.legend()\n",
        "plt.show()"
      ]
    },
    {
      "cell_type": "markdown",
      "metadata": {},
      "source": [
        "## Saving insights to a csv file"
      ]
    },
    {
      "cell_type": "code",
      "execution_count": 36,
      "metadata": {},
      "outputs": [
        {
          "data": {
            "text/html": [
              "<div>\n",
              "<style scoped>\n",
              "    .dataframe tbody tr th:only-of-type {\n",
              "        vertical-align: middle;\n",
              "    }\n",
              "\n",
              "    .dataframe tbody tr th {\n",
              "        vertical-align: top;\n",
              "    }\n",
              "\n",
              "    .dataframe thead th {\n",
              "        text-align: right;\n",
              "    }\n",
              "</style>\n",
              "<table border=\"1\" class=\"dataframe\">\n",
              "  <thead>\n",
              "    <tr style=\"text-align: right;\">\n",
              "      <th></th>\n",
              "      <th>Trip ID</th>\n",
              "      <th>Trip Origin</th>\n",
              "      <th>Trip Destination</th>\n",
              "      <th>Trip Start Time</th>\n",
              "      <th>Trip End Time</th>\n",
              "    </tr>\n",
              "  </thead>\n",
              "  <tbody>\n",
              "    <tr>\n",
              "      <th>0</th>\n",
              "      <td>391996</td>\n",
              "      <td>6.508813001668548,3.37740316890347</td>\n",
              "      <td>6.650969799999999,3.3450307</td>\n",
              "      <td>2021-07-01 07:28:04</td>\n",
              "      <td>2021-07-01 07:29:37</td>\n",
              "    </tr>\n",
              "    <tr>\n",
              "      <th>1</th>\n",
              "      <td>391997</td>\n",
              "      <td>6.4316714,3.4555375</td>\n",
              "      <td>6.4280814653326,3.4721885847586</td>\n",
              "      <td>2021-07-01 06:38:04</td>\n",
              "      <td>2021-07-01 07:07:28</td>\n",
              "    </tr>\n",
              "    <tr>\n",
              "      <th>2</th>\n",
              "      <td>391998</td>\n",
              "      <td>6.631679399999999,3.3388976</td>\n",
              "      <td>6.508324099999999,3.3590397</td>\n",
              "      <td>2021-07-01 06:21:02</td>\n",
              "      <td>2021-07-01 07:02:23</td>\n",
              "    </tr>\n",
              "    <tr>\n",
              "      <th>3</th>\n",
              "      <td>391999</td>\n",
              "      <td>6.572757200000001,3.3677082</td>\n",
              "      <td>6.584881099999999,3.3614073</td>\n",
              "      <td>2021-07-01 07:16:07</td>\n",
              "      <td>2021-07-01 07:29:42</td>\n",
              "    </tr>\n",
              "    <tr>\n",
              "      <th>4</th>\n",
              "      <td>392001</td>\n",
              "      <td>6.6010417,3.2766339</td>\n",
              "      <td>6.4501069,3.3916154</td>\n",
              "      <td>2021-07-01 09:30:59</td>\n",
              "      <td>2021-07-01 09:34:36</td>\n",
              "    </tr>\n",
              "    <tr>\n",
              "      <th>...</th>\n",
              "      <td>...</td>\n",
              "      <td>...</td>\n",
              "      <td>...</td>\n",
              "      <td>...</td>\n",
              "      <td>...</td>\n",
              "    </tr>\n",
              "    <tr>\n",
              "      <th>536015</th>\n",
              "      <td>1637696</td>\n",
              "      <td>6.448218499999999,3.4772075</td>\n",
              "      <td>6.437787399999999,3.481670199999999</td>\n",
              "      <td>2021-12-30 20:35:06</td>\n",
              "      <td>2021-12-30 21:02:59</td>\n",
              "    </tr>\n",
              "    <tr>\n",
              "      <th>536016</th>\n",
              "      <td>1637702</td>\n",
              "      <td>6.442320899999999,3.4736868</td>\n",
              "      <td>6.436589333407897,3.5559738188407835</td>\n",
              "      <td>2021-12-30 20:48:13</td>\n",
              "      <td>2021-12-30 21:43:49</td>\n",
              "    </tr>\n",
              "    <tr>\n",
              "      <th>536017</th>\n",
              "      <td>1637704</td>\n",
              "      <td>6.4281982,3.492248</td>\n",
              "      <td>6.448088500000001,3.4775747</td>\n",
              "      <td>2021-12-30 20:51:45</td>\n",
              "      <td>2021-12-30 21:41:32</td>\n",
              "    </tr>\n",
              "    <tr>\n",
              "      <th>536018</th>\n",
              "      <td>1637705</td>\n",
              "      <td>6.5869296,3.3632966</td>\n",
              "      <td>6.637906899999999,3.3339515</td>\n",
              "      <td>2021-12-30 20:48:50</td>\n",
              "      <td>2021-12-30 21:08:28</td>\n",
              "    </tr>\n",
              "    <tr>\n",
              "      <th>536019</th>\n",
              "      <td>1637709</td>\n",
              "      <td>6.647209999999999,3.4851489</td>\n",
              "      <td>6.454915198823159,3.555839938365194</td>\n",
              "      <td>2021-12-30 20:55:38</td>\n",
              "      <td>2021-12-30 22:25:00</td>\n",
              "    </tr>\n",
              "  </tbody>\n",
              "</table>\n",
              "<p>534368 rows × 5 columns</p>\n",
              "</div>"
            ],
            "text/plain": [
              "        Trip ID                         Trip Origin  \\\n",
              "0        391996  6.508813001668548,3.37740316890347   \n",
              "1        391997                 6.4316714,3.4555375   \n",
              "2        391998         6.631679399999999,3.3388976   \n",
              "3        391999         6.572757200000001,3.3677082   \n",
              "4        392001                 6.6010417,3.2766339   \n",
              "...         ...                                 ...   \n",
              "536015  1637696         6.448218499999999,3.4772075   \n",
              "536016  1637702         6.442320899999999,3.4736868   \n",
              "536017  1637704                  6.4281982,3.492248   \n",
              "536018  1637705                 6.5869296,3.3632966   \n",
              "536019  1637709         6.647209999999999,3.4851489   \n",
              "\n",
              "                            Trip Destination      Trip Start Time  \\\n",
              "0                6.650969799999999,3.3450307  2021-07-01 07:28:04   \n",
              "1            6.4280814653326,3.4721885847586  2021-07-01 06:38:04   \n",
              "2                6.508324099999999,3.3590397  2021-07-01 06:21:02   \n",
              "3                6.584881099999999,3.3614073  2021-07-01 07:16:07   \n",
              "4                        6.4501069,3.3916154  2021-07-01 09:30:59   \n",
              "...                                      ...                  ...   \n",
              "536015   6.437787399999999,3.481670199999999  2021-12-30 20:35:06   \n",
              "536016  6.436589333407897,3.5559738188407835  2021-12-30 20:48:13   \n",
              "536017           6.448088500000001,3.4775747  2021-12-30 20:51:45   \n",
              "536018           6.637906899999999,3.3339515  2021-12-30 20:48:50   \n",
              "536019   6.454915198823159,3.555839938365194  2021-12-30 20:55:38   \n",
              "\n",
              "              Trip End Time  \n",
              "0       2021-07-01 07:29:37  \n",
              "1       2021-07-01 07:07:28  \n",
              "2       2021-07-01 07:02:23  \n",
              "3       2021-07-01 07:29:42  \n",
              "4       2021-07-01 09:34:36  \n",
              "...                     ...  \n",
              "536015  2021-12-30 21:02:59  \n",
              "536016  2021-12-30 21:43:49  \n",
              "536017  2021-12-30 21:41:32  \n",
              "536018  2021-12-30 21:08:28  \n",
              "536019  2021-12-30 22:25:00  \n",
              "\n",
              "[534368 rows x 5 columns]"
            ]
          },
          "execution_count": 36,
          "metadata": {},
          "output_type": "execute_result"
        }
      ],
      "source": [
        "completed_orders"
      ]
    },
    {
      "cell_type": "code",
      "execution_count": 35,
      "metadata": {},
      "outputs": [],
      "source": [
        "file_path = \"/home/tema/10X/Week8/Logistic optimization/data/merged.csv\"\n",
        "file_path_co ='/home/tema/10X/Week8/Logistic optimization/data/completed_orders.csv'\n",
        "file_path_do ='/home/tema/10X/Week8/Logistic optimization/data/drivers_location.csv'\n",
        "\n",
        "#completed_orders.to_csv(file_path_co, index=False)\n",
        "#merged_df.to_csv(file_path, index = False)\n",
        "delivery_orders.to_csv(file_path_do, index = False)"
      ]
    }
  ],
  "metadata": {
    "colab": {
      "authorship_tag": "ABX9TyP9t3vFlgyVA6yuB5rWSGuu",
      "include_colab_link": true,
      "provenance": []
    },
    "kernelspec": {
      "display_name": "Python 3",
      "name": "python3"
    },
    "language_info": {
      "codemirror_mode": {
        "name": "ipython",
        "version": 3
      },
      "file_extension": ".py",
      "mimetype": "text/x-python",
      "name": "python",
      "nbconvert_exporter": "python",
      "pygments_lexer": "ipython3",
      "version": "3.12.3"
    }
  },
  "nbformat": 4,
  "nbformat_minor": 0
}
